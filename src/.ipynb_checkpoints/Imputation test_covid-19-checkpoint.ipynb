{
 "cells": [
  {
   "cell_type": "code",
   "execution_count": 2,
   "source": [
    "import matplotlib.pyplot as plt\r\n",
    "import pandas as pd\r\n",
    "import numpy as np\r\n",
    "import seaborn as sns\r\n",
    "import random as rd\r\n",
    "import os\r\n",
    "from missingpy import MissForest\r\n",
    "from sklearn.impute import KNNImputer\r\n",
    "from sklearn.experimental import enable_iterative_imputer\r\n",
    "from sklearn.impute import IterativeImputer\r\n",
    "from sklearn.impute import SimpleImputer\r\n",
    "from scipy import stats\r\n",
    "import statsmodels as sm\r\n",
    "from statsmodels.stats.weightstats import ztest\r\n",
    "from statsmodels.imputation import mice\r\n",
    "import plotly"
   ],
   "outputs": [],
   "metadata": {}
  },
  {
   "cell_type": "code",
   "execution_count": 3,
   "source": [
    "%matplotlib inline\r\n",
    "\r\n",
    "# @grellert: removendo warnings chatos\r\n",
    "import sys\r\n",
    "\r\n",
    "if not sys.warnoptions:\r\n",
    "    import warnings\r\n",
    "    warnings.simplefilter(\"ignore\")\r\n"
   ],
   "outputs": [],
   "metadata": {}
  },
  {
   "cell_type": "code",
   "execution_count": 4,
   "source": [
    "df = pd.read_csv(os.path.join('D:/', 'bolsa PIBIC', 'Covid19_Data', 'csv', 'dataset.csv'))\r\n",
    "df"
   ],
   "outputs": [
    {
     "output_type": "error",
     "ename": "FileNotFoundError",
     "evalue": "[Errno 2] No such file or directory: 'D:/bolsa PIBIC\\\\Covid19_Data\\\\csv\\\\dataset.csv'",
     "traceback": [
      "\u001b[1;31m---------------------------------------------------------------------------\u001b[0m",
      "\u001b[1;31mFileNotFoundError\u001b[0m                         Traceback (most recent call last)",
      "\u001b[1;32m<ipython-input-4-a4f8c57804e7>\u001b[0m in \u001b[0;36m<module>\u001b[1;34m\u001b[0m\n\u001b[1;32m----> 1\u001b[1;33m \u001b[0mdf\u001b[0m \u001b[1;33m=\u001b[0m \u001b[0mpd\u001b[0m\u001b[1;33m.\u001b[0m\u001b[0mread_csv\u001b[0m\u001b[1;33m(\u001b[0m\u001b[0mos\u001b[0m\u001b[1;33m.\u001b[0m\u001b[0mpath\u001b[0m\u001b[1;33m.\u001b[0m\u001b[0mjoin\u001b[0m\u001b[1;33m(\u001b[0m\u001b[1;34m'D:/'\u001b[0m\u001b[1;33m,\u001b[0m \u001b[1;34m'bolsa PIBIC'\u001b[0m\u001b[1;33m,\u001b[0m \u001b[1;34m'Covid19_Data'\u001b[0m\u001b[1;33m,\u001b[0m \u001b[1;34m'csv'\u001b[0m\u001b[1;33m,\u001b[0m \u001b[1;34m'dataset.csv'\u001b[0m\u001b[1;33m)\u001b[0m\u001b[1;33m)\u001b[0m\u001b[1;33m\u001b[0m\u001b[1;33m\u001b[0m\u001b[0m\n\u001b[0m\u001b[0;32m      2\u001b[0m \u001b[0mdf\u001b[0m\u001b[1;33m\u001b[0m\u001b[1;33m\u001b[0m\u001b[0m\n",
      "\u001b[1;32m~\\AppData\\Local\\Programs\\Python\\Python39\\lib\\site-packages\\pandas\\io\\parsers.py\u001b[0m in \u001b[0;36mread_csv\u001b[1;34m(filepath_or_buffer, sep, delimiter, header, names, index_col, usecols, squeeze, prefix, mangle_dupe_cols, dtype, engine, converters, true_values, false_values, skipinitialspace, skiprows, skipfooter, nrows, na_values, keep_default_na, na_filter, verbose, skip_blank_lines, parse_dates, infer_datetime_format, keep_date_col, date_parser, dayfirst, cache_dates, iterator, chunksize, compression, thousands, decimal, lineterminator, quotechar, quoting, doublequote, escapechar, comment, encoding, dialect, error_bad_lines, warn_bad_lines, delim_whitespace, low_memory, memory_map, float_precision, storage_options)\u001b[0m\n\u001b[0;32m    608\u001b[0m     \u001b[0mkwds\u001b[0m\u001b[1;33m.\u001b[0m\u001b[0mupdate\u001b[0m\u001b[1;33m(\u001b[0m\u001b[0mkwds_defaults\u001b[0m\u001b[1;33m)\u001b[0m\u001b[1;33m\u001b[0m\u001b[1;33m\u001b[0m\u001b[0m\n\u001b[0;32m    609\u001b[0m \u001b[1;33m\u001b[0m\u001b[0m\n\u001b[1;32m--> 610\u001b[1;33m     \u001b[1;32mreturn\u001b[0m \u001b[0m_read\u001b[0m\u001b[1;33m(\u001b[0m\u001b[0mfilepath_or_buffer\u001b[0m\u001b[1;33m,\u001b[0m \u001b[0mkwds\u001b[0m\u001b[1;33m)\u001b[0m\u001b[1;33m\u001b[0m\u001b[1;33m\u001b[0m\u001b[0m\n\u001b[0m\u001b[0;32m    611\u001b[0m \u001b[1;33m\u001b[0m\u001b[0m\n\u001b[0;32m    612\u001b[0m \u001b[1;33m\u001b[0m\u001b[0m\n",
      "\u001b[1;32m~\\AppData\\Local\\Programs\\Python\\Python39\\lib\\site-packages\\pandas\\io\\parsers.py\u001b[0m in \u001b[0;36m_read\u001b[1;34m(filepath_or_buffer, kwds)\u001b[0m\n\u001b[0;32m    460\u001b[0m \u001b[1;33m\u001b[0m\u001b[0m\n\u001b[0;32m    461\u001b[0m     \u001b[1;31m# Create the parser.\u001b[0m\u001b[1;33m\u001b[0m\u001b[1;33m\u001b[0m\u001b[1;33m\u001b[0m\u001b[0m\n\u001b[1;32m--> 462\u001b[1;33m     \u001b[0mparser\u001b[0m \u001b[1;33m=\u001b[0m \u001b[0mTextFileReader\u001b[0m\u001b[1;33m(\u001b[0m\u001b[0mfilepath_or_buffer\u001b[0m\u001b[1;33m,\u001b[0m \u001b[1;33m**\u001b[0m\u001b[0mkwds\u001b[0m\u001b[1;33m)\u001b[0m\u001b[1;33m\u001b[0m\u001b[1;33m\u001b[0m\u001b[0m\n\u001b[0m\u001b[0;32m    463\u001b[0m \u001b[1;33m\u001b[0m\u001b[0m\n\u001b[0;32m    464\u001b[0m     \u001b[1;32mif\u001b[0m \u001b[0mchunksize\u001b[0m \u001b[1;32mor\u001b[0m \u001b[0miterator\u001b[0m\u001b[1;33m:\u001b[0m\u001b[1;33m\u001b[0m\u001b[1;33m\u001b[0m\u001b[0m\n",
      "\u001b[1;32m~\\AppData\\Local\\Programs\\Python\\Python39\\lib\\site-packages\\pandas\\io\\parsers.py\u001b[0m in \u001b[0;36m__init__\u001b[1;34m(self, f, engine, **kwds)\u001b[0m\n\u001b[0;32m    817\u001b[0m             \u001b[0mself\u001b[0m\u001b[1;33m.\u001b[0m\u001b[0moptions\u001b[0m\u001b[1;33m[\u001b[0m\u001b[1;34m\"has_index_names\"\u001b[0m\u001b[1;33m]\u001b[0m \u001b[1;33m=\u001b[0m \u001b[0mkwds\u001b[0m\u001b[1;33m[\u001b[0m\u001b[1;34m\"has_index_names\"\u001b[0m\u001b[1;33m]\u001b[0m\u001b[1;33m\u001b[0m\u001b[1;33m\u001b[0m\u001b[0m\n\u001b[0;32m    818\u001b[0m \u001b[1;33m\u001b[0m\u001b[0m\n\u001b[1;32m--> 819\u001b[1;33m         \u001b[0mself\u001b[0m\u001b[1;33m.\u001b[0m\u001b[0m_engine\u001b[0m \u001b[1;33m=\u001b[0m \u001b[0mself\u001b[0m\u001b[1;33m.\u001b[0m\u001b[0m_make_engine\u001b[0m\u001b[1;33m(\u001b[0m\u001b[0mself\u001b[0m\u001b[1;33m.\u001b[0m\u001b[0mengine\u001b[0m\u001b[1;33m)\u001b[0m\u001b[1;33m\u001b[0m\u001b[1;33m\u001b[0m\u001b[0m\n\u001b[0m\u001b[0;32m    820\u001b[0m \u001b[1;33m\u001b[0m\u001b[0m\n\u001b[0;32m    821\u001b[0m     \u001b[1;32mdef\u001b[0m \u001b[0mclose\u001b[0m\u001b[1;33m(\u001b[0m\u001b[0mself\u001b[0m\u001b[1;33m)\u001b[0m\u001b[1;33m:\u001b[0m\u001b[1;33m\u001b[0m\u001b[1;33m\u001b[0m\u001b[0m\n",
      "\u001b[1;32m~\\AppData\\Local\\Programs\\Python\\Python39\\lib\\site-packages\\pandas\\io\\parsers.py\u001b[0m in \u001b[0;36m_make_engine\u001b[1;34m(self, engine)\u001b[0m\n\u001b[0;32m   1048\u001b[0m             )\n\u001b[0;32m   1049\u001b[0m         \u001b[1;31m# error: Too many arguments for \"ParserBase\"\u001b[0m\u001b[1;33m\u001b[0m\u001b[1;33m\u001b[0m\u001b[1;33m\u001b[0m\u001b[0m\n\u001b[1;32m-> 1050\u001b[1;33m         \u001b[1;32mreturn\u001b[0m \u001b[0mmapping\u001b[0m\u001b[1;33m[\u001b[0m\u001b[0mengine\u001b[0m\u001b[1;33m]\u001b[0m\u001b[1;33m(\u001b[0m\u001b[0mself\u001b[0m\u001b[1;33m.\u001b[0m\u001b[0mf\u001b[0m\u001b[1;33m,\u001b[0m \u001b[1;33m**\u001b[0m\u001b[0mself\u001b[0m\u001b[1;33m.\u001b[0m\u001b[0moptions\u001b[0m\u001b[1;33m)\u001b[0m  \u001b[1;31m# type: ignore[call-arg]\u001b[0m\u001b[1;33m\u001b[0m\u001b[1;33m\u001b[0m\u001b[0m\n\u001b[0m\u001b[0;32m   1051\u001b[0m \u001b[1;33m\u001b[0m\u001b[0m\n\u001b[0;32m   1052\u001b[0m     \u001b[1;32mdef\u001b[0m \u001b[0m_failover_to_python\u001b[0m\u001b[1;33m(\u001b[0m\u001b[0mself\u001b[0m\u001b[1;33m)\u001b[0m\u001b[1;33m:\u001b[0m\u001b[1;33m\u001b[0m\u001b[1;33m\u001b[0m\u001b[0m\n",
      "\u001b[1;32m~\\AppData\\Local\\Programs\\Python\\Python39\\lib\\site-packages\\pandas\\io\\parsers.py\u001b[0m in \u001b[0;36m__init__\u001b[1;34m(self, src, **kwds)\u001b[0m\n\u001b[0;32m   1865\u001b[0m \u001b[1;33m\u001b[0m\u001b[0m\n\u001b[0;32m   1866\u001b[0m         \u001b[1;31m# open handles\u001b[0m\u001b[1;33m\u001b[0m\u001b[1;33m\u001b[0m\u001b[1;33m\u001b[0m\u001b[0m\n\u001b[1;32m-> 1867\u001b[1;33m         \u001b[0mself\u001b[0m\u001b[1;33m.\u001b[0m\u001b[0m_open_handles\u001b[0m\u001b[1;33m(\u001b[0m\u001b[0msrc\u001b[0m\u001b[1;33m,\u001b[0m \u001b[0mkwds\u001b[0m\u001b[1;33m)\u001b[0m\u001b[1;33m\u001b[0m\u001b[1;33m\u001b[0m\u001b[0m\n\u001b[0m\u001b[0;32m   1868\u001b[0m         \u001b[1;32massert\u001b[0m \u001b[0mself\u001b[0m\u001b[1;33m.\u001b[0m\u001b[0mhandles\u001b[0m \u001b[1;32mis\u001b[0m \u001b[1;32mnot\u001b[0m \u001b[1;32mNone\u001b[0m\u001b[1;33m\u001b[0m\u001b[1;33m\u001b[0m\u001b[0m\n\u001b[0;32m   1869\u001b[0m         \u001b[1;32mfor\u001b[0m \u001b[0mkey\u001b[0m \u001b[1;32min\u001b[0m \u001b[1;33m(\u001b[0m\u001b[1;34m\"storage_options\"\u001b[0m\u001b[1;33m,\u001b[0m \u001b[1;34m\"encoding\"\u001b[0m\u001b[1;33m,\u001b[0m \u001b[1;34m\"memory_map\"\u001b[0m\u001b[1;33m,\u001b[0m \u001b[1;34m\"compression\"\u001b[0m\u001b[1;33m)\u001b[0m\u001b[1;33m:\u001b[0m\u001b[1;33m\u001b[0m\u001b[1;33m\u001b[0m\u001b[0m\n",
      "\u001b[1;32m~\\AppData\\Local\\Programs\\Python\\Python39\\lib\\site-packages\\pandas\\io\\parsers.py\u001b[0m in \u001b[0;36m_open_handles\u001b[1;34m(self, src, kwds)\u001b[0m\n\u001b[0;32m   1360\u001b[0m         \u001b[0mLet\u001b[0m \u001b[0mthe\u001b[0m \u001b[0mreaders\u001b[0m \u001b[0mopen\u001b[0m \u001b[0mIOHanldes\u001b[0m \u001b[0mafter\u001b[0m \u001b[0mthey\u001b[0m \u001b[0mare\u001b[0m \u001b[0mdone\u001b[0m \u001b[1;32mwith\u001b[0m \u001b[0mtheir\u001b[0m \u001b[0mpotential\u001b[0m \u001b[0mraises\u001b[0m\u001b[1;33m.\u001b[0m\u001b[1;33m\u001b[0m\u001b[1;33m\u001b[0m\u001b[0m\n\u001b[0;32m   1361\u001b[0m         \"\"\"\n\u001b[1;32m-> 1362\u001b[1;33m         self.handles = get_handle(\n\u001b[0m\u001b[0;32m   1363\u001b[0m             \u001b[0msrc\u001b[0m\u001b[1;33m,\u001b[0m\u001b[1;33m\u001b[0m\u001b[1;33m\u001b[0m\u001b[0m\n\u001b[0;32m   1364\u001b[0m             \u001b[1;34m\"r\"\u001b[0m\u001b[1;33m,\u001b[0m\u001b[1;33m\u001b[0m\u001b[1;33m\u001b[0m\u001b[0m\n",
      "\u001b[1;32m~\\AppData\\Local\\Programs\\Python\\Python39\\lib\\site-packages\\pandas\\io\\common.py\u001b[0m in \u001b[0;36mget_handle\u001b[1;34m(path_or_buf, mode, encoding, compression, memory_map, is_text, errors, storage_options)\u001b[0m\n\u001b[0;32m    640\u001b[0m                 \u001b[0merrors\u001b[0m \u001b[1;33m=\u001b[0m \u001b[1;34m\"replace\"\u001b[0m\u001b[1;33m\u001b[0m\u001b[1;33m\u001b[0m\u001b[0m\n\u001b[0;32m    641\u001b[0m             \u001b[1;31m# Encoding\u001b[0m\u001b[1;33m\u001b[0m\u001b[1;33m\u001b[0m\u001b[1;33m\u001b[0m\u001b[0m\n\u001b[1;32m--> 642\u001b[1;33m             handle = open(\n\u001b[0m\u001b[0;32m    643\u001b[0m                 \u001b[0mhandle\u001b[0m\u001b[1;33m,\u001b[0m\u001b[1;33m\u001b[0m\u001b[1;33m\u001b[0m\u001b[0m\n\u001b[0;32m    644\u001b[0m                 \u001b[0mioargs\u001b[0m\u001b[1;33m.\u001b[0m\u001b[0mmode\u001b[0m\u001b[1;33m,\u001b[0m\u001b[1;33m\u001b[0m\u001b[1;33m\u001b[0m\u001b[0m\n",
      "\u001b[1;31mFileNotFoundError\u001b[0m: [Errno 2] No such file or directory: 'D:/bolsa PIBIC\\\\Covid19_Data\\\\csv\\\\dataset.csv'"
     ]
    }
   ],
   "metadata": {
    "scrolled": true
   }
  },
  {
   "cell_type": "code",
   "execution_count": null,
   "source": [
    "df = df.dropna()\r\n",
    "df"
   ],
   "outputs": [
    {
     "output_type": "execute_result",
     "data": {
      "text/plain": [
       "Empty DataFrame\n",
       "Columns: [Patient ID, Patient age quantile, SARS-Cov-2 exam result, Patient addmited to regular ward (1=yes, 0=no), Patient addmited to semi-intensive unit (1=yes, 0=no), Patient addmited to intensive care unit (1=yes, 0=no), Hematocrit, Hemoglobin, Platelets, Mean platelet volume , Red blood Cells, Lymphocytes, Mean corpuscular hemoglobin concentration�(MCHC), Leukocytes, Basophils, Mean corpuscular hemoglobin (MCH), Eosinophils, Mean corpuscular volume (MCV), Monocytes, Red blood cell distribution width (RDW), Serum Glucose, Respiratory Syncytial Virus, Influenza A, Influenza B, Parainfluenza 1, CoronavirusNL63, Rhinovirus/Enterovirus, Mycoplasma pneumoniae, Coronavirus HKU1, Parainfluenza 3, Chlamydophila pneumoniae, Adenovirus, Parainfluenza 4, Coronavirus229E, CoronavirusOC43, Inf A H1N1 2009, Bordetella pertussis, Metapneumovirus, Parainfluenza 2, Neutrophils, Urea, Proteina C reativa mg/dL, Creatinine, Potassium, Sodium, Influenza B, rapid test, Influenza A, rapid test, Alanine transaminase, Aspartate transaminase, Gamma-glutamyltransferase�, Total Bilirubin, Direct Bilirubin, Indirect Bilirubin, Alkaline phosphatase, Ionized calcium�, Strepto A, Magnesium, pCO2 (venous blood gas analysis), Hb saturation (venous blood gas analysis), Base excess (venous blood gas analysis), pO2 (venous blood gas analysis), Fio2 (venous blood gas analysis), Total CO2 (venous blood gas analysis), pH (venous blood gas analysis), HCO3 (venous blood gas analysis), Rods #, Segmented, Promyelocytes, Metamyelocytes, Myelocytes, Myeloblasts, Urine - Esterase, Urine - Aspect, Urine - pH, Urine - Hemoglobin, Urine - Bile pigments, Urine - Ketone Bodies, Urine - Nitrite, Urine - Density, Urine - Urobilinogen, Urine - Protein, Urine - Sugar, Urine - Leukocytes, Urine - Crystals, Urine - Red blood cells, Urine - Hyaline cylinders, Urine - Granular cylinders, Urine - Yeasts, Urine - Color, Partial thromboplastin time�(PTT)�, Relationship (Patient/Normal), International normalized ratio (INR), Lactic Dehydrogenase, Prothrombin time (PT), Activity, Vitamin B12, Creatine phosphokinase�(CPK)�, Ferritin, Arterial Lactic Acid, Lipase dosage, D-Dimer, ...]\n",
       "Index: []\n",
       "\n",
       "[0 rows x 111 columns]"
      ],
      "text/html": [
       "<div>\n",
       "<style scoped>\n",
       "    .dataframe tbody tr th:only-of-type {\n",
       "        vertical-align: middle;\n",
       "    }\n",
       "\n",
       "    .dataframe tbody tr th {\n",
       "        vertical-align: top;\n",
       "    }\n",
       "\n",
       "    .dataframe thead th {\n",
       "        text-align: right;\n",
       "    }\n",
       "</style>\n",
       "<table border=\"1\" class=\"dataframe\">\n",
       "  <thead>\n",
       "    <tr style=\"text-align: right;\">\n",
       "      <th></th>\n",
       "      <th>Patient ID</th>\n",
       "      <th>Patient age quantile</th>\n",
       "      <th>SARS-Cov-2 exam result</th>\n",
       "      <th>Patient addmited to regular ward (1=yes, 0=no)</th>\n",
       "      <th>Patient addmited to semi-intensive unit (1=yes, 0=no)</th>\n",
       "      <th>Patient addmited to intensive care unit (1=yes, 0=no)</th>\n",
       "      <th>Hematocrit</th>\n",
       "      <th>Hemoglobin</th>\n",
       "      <th>Platelets</th>\n",
       "      <th>Mean platelet volume</th>\n",
       "      <th>...</th>\n",
       "      <th>Hb saturation (arterial blood gases)</th>\n",
       "      <th>pCO2 (arterial blood gas analysis)</th>\n",
       "      <th>Base excess (arterial blood gas analysis)</th>\n",
       "      <th>pH (arterial blood gas analysis)</th>\n",
       "      <th>Total CO2 (arterial blood gas analysis)</th>\n",
       "      <th>HCO3 (arterial blood gas analysis)</th>\n",
       "      <th>pO2 (arterial blood gas analysis)</th>\n",
       "      <th>Arteiral Fio2</th>\n",
       "      <th>Phosphor</th>\n",
       "      <th>ctO2 (arterial blood gas analysis)</th>\n",
       "    </tr>\n",
       "  </thead>\n",
       "  <tbody>\n",
       "  </tbody>\n",
       "</table>\n",
       "<p>0 rows × 111 columns</p>\n",
       "</div>"
      ]
     },
     "metadata": {},
     "execution_count": 7
    }
   ],
   "metadata": {}
  },
  {
   "cell_type": "code",
   "execution_count": null,
   "source": [
    "np.where(pd.isnull(df))"
   ],
   "outputs": [
    {
     "output_type": "execute_result",
     "data": {
      "text/plain": [
       "(array([  3,   5,   5,   5,   8,  12,  16,  17,  21,  22,  24,  28,  30,\n",
       "         31,  31,  33,  36,  37,  39,  40,  42,  43,  43,  43,  46,  46,\n",
       "         46,  47,  49,  55,  57,  58,  58,  58,  64,  67,  68,  68,  68,\n",
       "         76,  81,  81,  81,  82,  88,  89,  89,  89,  89,  89,  94, 108,\n",
       "        108, 111, 113, 117, 122, 124, 124, 124, 124, 124, 127, 128, 130,\n",
       "        130, 130, 130, 130, 135, 138, 140, 142, 142, 142, 143, 144, 144,\n",
       "        144, 153, 153, 162, 163, 163, 163, 163, 163, 165, 167, 167, 167,\n",
       "        169, 169, 169, 169, 169, 170, 171, 175, 176, 181, 181, 181, 182,\n",
       "        185, 187, 189, 194, 195, 196, 196, 196, 197, 197, 197, 199, 200,\n",
       "        204, 208, 212, 214, 215, 216, 216, 216], dtype=int64),\n",
       " array([ 6,  3,  6,  8,  6,  6,  6,  6,  6,  6,  6,  6,  6,  6,  8,  6,  6,\n",
       "         6,  6,  6,  6,  3,  6,  8,  6,  9, 10,  6,  6,  6,  6,  3,  6,  8,\n",
       "         6,  6,  3,  6,  8,  6,  3,  6,  8,  6,  6,  3,  6,  8,  9, 10,  6,\n",
       "         6,  8,  6,  6,  6,  6,  3,  6,  8,  9, 10,  6,  6,  3,  6,  8,  9,\n",
       "        10,  6,  6,  6,  3,  6,  8,  6,  6,  9, 10,  4,  5,  6,  3,  6,  8,\n",
       "         9, 10,  6,  3,  6,  8,  3,  6,  8,  9, 10,  6,  6,  6,  6,  3,  6,\n",
       "         8,  6,  6,  6,  6,  6,  6,  6,  9, 10,  8,  9, 10,  6,  6,  6,  6,\n",
       "         6,  6,  6,  6,  9, 10], dtype=int64))"
      ]
     },
     "metadata": {},
     "execution_count": 35
    }
   ],
   "metadata": {}
  },
  {
   "cell_type": "code",
   "execution_count": 4,
   "source": [
    "df.describe()"
   ],
   "outputs": [
    {
     "output_type": "error",
     "ename": "NameError",
     "evalue": "name 'df' is not defined",
     "traceback": [
      "\u001b[1;31m---------------------------------------------------------------------------\u001b[0m",
      "\u001b[1;31mNameError\u001b[0m                                 Traceback (most recent call last)",
      "\u001b[1;32m<ipython-input-4-ea8415b8a3ee>\u001b[0m in \u001b[0;36m<module>\u001b[1;34m\u001b[0m\n\u001b[1;32m----> 1\u001b[1;33m \u001b[0mdf\u001b[0m\u001b[1;33m.\u001b[0m\u001b[0mdescribe\u001b[0m\u001b[1;33m(\u001b[0m\u001b[1;33m)\u001b[0m\u001b[1;33m\u001b[0m\u001b[1;33m\u001b[0m\u001b[0m\n\u001b[0m",
      "\u001b[1;31mNameError\u001b[0m: name 'df' is not defined"
     ]
    }
   ],
   "metadata": {}
  },
  {
   "cell_type": "code",
   "execution_count": 43,
   "source": [
    "TH_CATEGORICO = 5\r\n",
    "categoricos = [] \r\n",
    "string = []\r\n",
    "quantitativos = []\r\n",
    "nao_numericos = []\r\n",
    "\r\n",
    "for col in df:\r\n",
    "    # print(col, df[col].unique())\r\n",
    "    unicos = df[col].unique()\r\n",
    "    ## dividindo colunas entre valores categoricos e quantitativos:\r\n",
    "    if unicos.shape[0] < TH_CATEGORICO:\r\n",
    "        categoricos.append(col)\r\n",
    "    elif type(df[col][0]) is str:\r\n",
    "        string.append(col)\r\n",
    "    else: \r\n",
    "        quantitativos.append(col)\r\n",
    "print(f'colunas categoricas: {len(categoricos)}, quantitativas: {len(quantitativos)}, str: {string}')"
   ],
   "outputs": [
    {
     "output_type": "stream",
     "name": "stdout",
     "text": [
      "colunas categoricas: 0, quantitativas: 10, str: ['country', 'continent']\n"
     ]
    }
   ],
   "metadata": {}
  },
  {
   "cell_type": "code",
   "execution_count": 44,
   "source": [
    "df[quantitativos].describe()"
   ],
   "outputs": [
    {
     "output_type": "execute_result",
     "data": {
      "text/plain": [
       "       total_confirmed   total_deaths  total_recovered  active_cases  \\\n",
       "count     2.200000e+02     207.000000     2.190000e+02  2.190000e+02   \n",
       "mean      9.021924e+05   20443.859903     8.106192e+05  6.763399e+04   \n",
       "std       3.598470e+06   71537.092423     3.251487e+06  3.868977e+05   \n",
       "min       1.000000e+00       1.000000     1.000000e+00 -1.489000e+03   \n",
       "25%       7.896500e+03     150.500000     5.355000e+03  4.055000e+02   \n",
       "50%       7.733750e+04    1375.000000     6.286300e+04  3.488000e+03   \n",
       "75%       4.099940e+05    8071.500000     3.809640e+05  2.076650e+04   \n",
       "max       3.573397e+07  629290.000000     3.081287e+07  5.438593e+06   \n",
       "\n",
       "       serious_or_critical  total_cases_per_1m_population  \\\n",
       "count           146.000000                     220.000000   \n",
       "mean            602.178082                   39901.322727   \n",
       "std            1625.414059                   42102.158641   \n",
       "min               1.000000                       9.000000   \n",
       "25%               9.000000                    3090.500000   \n",
       "50%              36.500000                   26154.500000   \n",
       "75%             309.000000                   68381.000000   \n",
       "max            9375.000000                  189643.000000   \n",
       "\n",
       "       total_deaths_per_1m_population   total_tests  \\\n",
       "count                      204.000000  2.100000e+02   \n",
       "mean                       707.196078  1.432069e+07   \n",
       "std                        847.655806  5.475965e+07   \n",
       "min                          2.000000  1.408000e+03   \n",
       "25%                         67.250000  1.787430e+05   \n",
       "50%                        363.500000  1.315024e+06   \n",
       "75%                       1069.500000  6.732616e+06   \n",
       "max                       5865.000000  5.295773e+08   \n",
       "\n",
       "       total_tests_per_1m_population    population  \n",
       "count                   2.100000e+02  2.200000e+02  \n",
       "mean                    9.025879e+05  3.563921e+07  \n",
       "std                     1.645828e+06  1.402212e+08  \n",
       "min                     2.882000e+03  8.030000e+02  \n",
       "25%                     8.885250e+04  6.347295e+05  \n",
       "50%                     3.416410e+05  6.580660e+06  \n",
       "75%                     1.002095e+06  2.418337e+07  \n",
       "max                     1.311142e+07  1.439324e+09  "
      ],
      "text/html": [
       "<div>\n",
       "<style scoped>\n",
       "    .dataframe tbody tr th:only-of-type {\n",
       "        vertical-align: middle;\n",
       "    }\n",
       "\n",
       "    .dataframe tbody tr th {\n",
       "        vertical-align: top;\n",
       "    }\n",
       "\n",
       "    .dataframe thead th {\n",
       "        text-align: right;\n",
       "    }\n",
       "</style>\n",
       "<table border=\"1\" class=\"dataframe\">\n",
       "  <thead>\n",
       "    <tr style=\"text-align: right;\">\n",
       "      <th></th>\n",
       "      <th>total_confirmed</th>\n",
       "      <th>total_deaths</th>\n",
       "      <th>total_recovered</th>\n",
       "      <th>active_cases</th>\n",
       "      <th>serious_or_critical</th>\n",
       "      <th>total_cases_per_1m_population</th>\n",
       "      <th>total_deaths_per_1m_population</th>\n",
       "      <th>total_tests</th>\n",
       "      <th>total_tests_per_1m_population</th>\n",
       "      <th>population</th>\n",
       "    </tr>\n",
       "  </thead>\n",
       "  <tbody>\n",
       "    <tr>\n",
       "      <th>count</th>\n",
       "      <td>2.200000e+02</td>\n",
       "      <td>207.000000</td>\n",
       "      <td>2.190000e+02</td>\n",
       "      <td>2.190000e+02</td>\n",
       "      <td>146.000000</td>\n",
       "      <td>220.000000</td>\n",
       "      <td>204.000000</td>\n",
       "      <td>2.100000e+02</td>\n",
       "      <td>2.100000e+02</td>\n",
       "      <td>2.200000e+02</td>\n",
       "    </tr>\n",
       "    <tr>\n",
       "      <th>mean</th>\n",
       "      <td>9.021924e+05</td>\n",
       "      <td>20443.859903</td>\n",
       "      <td>8.106192e+05</td>\n",
       "      <td>6.763399e+04</td>\n",
       "      <td>602.178082</td>\n",
       "      <td>39901.322727</td>\n",
       "      <td>707.196078</td>\n",
       "      <td>1.432069e+07</td>\n",
       "      <td>9.025879e+05</td>\n",
       "      <td>3.563921e+07</td>\n",
       "    </tr>\n",
       "    <tr>\n",
       "      <th>std</th>\n",
       "      <td>3.598470e+06</td>\n",
       "      <td>71537.092423</td>\n",
       "      <td>3.251487e+06</td>\n",
       "      <td>3.868977e+05</td>\n",
       "      <td>1625.414059</td>\n",
       "      <td>42102.158641</td>\n",
       "      <td>847.655806</td>\n",
       "      <td>5.475965e+07</td>\n",
       "      <td>1.645828e+06</td>\n",
       "      <td>1.402212e+08</td>\n",
       "    </tr>\n",
       "    <tr>\n",
       "      <th>min</th>\n",
       "      <td>1.000000e+00</td>\n",
       "      <td>1.000000</td>\n",
       "      <td>1.000000e+00</td>\n",
       "      <td>-1.489000e+03</td>\n",
       "      <td>1.000000</td>\n",
       "      <td>9.000000</td>\n",
       "      <td>2.000000</td>\n",
       "      <td>1.408000e+03</td>\n",
       "      <td>2.882000e+03</td>\n",
       "      <td>8.030000e+02</td>\n",
       "    </tr>\n",
       "    <tr>\n",
       "      <th>25%</th>\n",
       "      <td>7.896500e+03</td>\n",
       "      <td>150.500000</td>\n",
       "      <td>5.355000e+03</td>\n",
       "      <td>4.055000e+02</td>\n",
       "      <td>9.000000</td>\n",
       "      <td>3090.500000</td>\n",
       "      <td>67.250000</td>\n",
       "      <td>1.787430e+05</td>\n",
       "      <td>8.885250e+04</td>\n",
       "      <td>6.347295e+05</td>\n",
       "    </tr>\n",
       "    <tr>\n",
       "      <th>50%</th>\n",
       "      <td>7.733750e+04</td>\n",
       "      <td>1375.000000</td>\n",
       "      <td>6.286300e+04</td>\n",
       "      <td>3.488000e+03</td>\n",
       "      <td>36.500000</td>\n",
       "      <td>26154.500000</td>\n",
       "      <td>363.500000</td>\n",
       "      <td>1.315024e+06</td>\n",
       "      <td>3.416410e+05</td>\n",
       "      <td>6.580660e+06</td>\n",
       "    </tr>\n",
       "    <tr>\n",
       "      <th>75%</th>\n",
       "      <td>4.099940e+05</td>\n",
       "      <td>8071.500000</td>\n",
       "      <td>3.809640e+05</td>\n",
       "      <td>2.076650e+04</td>\n",
       "      <td>309.000000</td>\n",
       "      <td>68381.000000</td>\n",
       "      <td>1069.500000</td>\n",
       "      <td>6.732616e+06</td>\n",
       "      <td>1.002095e+06</td>\n",
       "      <td>2.418337e+07</td>\n",
       "    </tr>\n",
       "    <tr>\n",
       "      <th>max</th>\n",
       "      <td>3.573397e+07</td>\n",
       "      <td>629290.000000</td>\n",
       "      <td>3.081287e+07</td>\n",
       "      <td>5.438593e+06</td>\n",
       "      <td>9375.000000</td>\n",
       "      <td>189643.000000</td>\n",
       "      <td>5865.000000</td>\n",
       "      <td>5.295773e+08</td>\n",
       "      <td>1.311142e+07</td>\n",
       "      <td>1.439324e+09</td>\n",
       "    </tr>\n",
       "  </tbody>\n",
       "</table>\n",
       "</div>"
      ]
     },
     "metadata": {},
     "execution_count": 44
    }
   ],
   "metadata": {
    "scrolled": true
   }
  },
  {
   "cell_type": "code",
   "execution_count": 425,
   "source": [
    "# grellert: deprecated\n",
    "def mean_of(data):\n",
    "    _mean = 0\n",
    "    _std = 0\n",
    "    _median = 0\n",
    "    _min_ = 0\n",
    "    _max_ = 0\n",
    "    for i in range(len(data)):\n",
    "        _mean += data[i][0]\n",
    "        _std += data[i][1]\n",
    "        _median += data[i][2]\n",
    "        _min_ += data[i][3]\n",
    "        _max_ += data[i][4]\n",
    "    mean = round(_mean/len(data), 4)\n",
    "    std = round(_std/len(data), 4)\n",
    "    median = round(_median/len(data), 4)\n",
    "    min_ = round(_min_/len(data), 4)\n",
    "    max_ = round(_max_/len(data), 4)\n",
    "    return [mean, std, median, min_, max_]"
   ],
   "outputs": [],
   "metadata": {}
  },
  {
   "cell_type": "code",
   "execution_count": 426,
   "source": [
    "def compare (df1, df2, class_data = None):\n",
    "    mean= df2.mean() - df1.mean()\n",
    "    std= df2.std() - df1.std()\n",
    "    median = df2.median() - df1.median()\n",
    "    minim = df2.min() - df1.min()\n",
    "    maxim = df2.max() - df1.max()\n",
    "    # @grellert: adicionando correlacao\n",
    "    if class_data is not None:\n",
    "        corr_diff = np.corrcoef(df2, class_data)[0][1] - np.corrcoef(df1, class_data)[0][1]\n",
    "        return [mean, std, median, minim, maxim, corr_diff]\n",
    "        print(corr_diff)\n",
    "    return [mean, std, median, minim, maxim]"
   ],
   "outputs": [],
   "metadata": {}
  },
  {
   "cell_type": "code",
   "execution_count": 427,
   "source": [
    "def imputation_test (k,df_,col,method):\n",
    "    df = df_\n",
    "    n_rows = df.shape[0]\n",
    "    df_compare = []\n",
    "    \n",
    "    k_ = int(n_rows*k/100)\n",
    "    to_nan = rd.sample(range(n_rows), k_)  # seleciona aleatorimente k% do numero de linhas total\n",
    "    \n",
    "    df[col].iloc[to_nan] = np.nan  \n",
    "\n",
    "    if method == 'mean':\n",
    "        df[col] = df[col].replace(np.nan, df[col].mean())\n",
    "\n",
    "    elif method == 'median':\n",
    "        imputer = SimpleImputer(strategy = 'median')\n",
    "#         df[col] = df[col].replace(np.nan, df[col].median())\n",
    "        imputer = imputer.fit(np.array(df[col]).reshape(-1,1))\n",
    "        df[col] = imputer.transform(np.array(df[col]).reshape(-1,1))\n",
    "        \n",
    "    elif method == 'mode':\n",
    "        df[col].fillna(df[col].mode()[0], inplace = True)\n",
    "        \n",
    "    # @grellert: tornando o método mais expansível\n",
    "    elif method == 'knn' in method:\n",
    "        k = method.split('_')[1]\n",
    "        imputer = KNNImputer(n_neighbors = k)\n",
    "        imputed_data = imputer.fit_transform(df)\n",
    "        df_temp = pd.DataFrame(imputed_data)\n",
    "        df_temp.columns = df.columns\n",
    "        df[col] = df_temp[col]  # update only the desired column\n",
    "        \n",
    "    elif method == 'missforest':\n",
    "        imputer = MissForest(verbose=0, n_estimators = 10, max_depth = 10, max_iter = 2 )\n",
    "        imputed_data = imputer.fit_transform(df)\n",
    "        df_temp = pd.DataFrame(imputed_data)\n",
    "        df_temp.columns = df.columns\n",
    "        df[col] = df_temp[col]\n",
    "        \n",
    "    elif method == 'iterative_imputer': ##still incorrect\n",
    "        imp_mean = IterativeImputer()\n",
    "        # recebe todo o DataFrame e retorna um np.array com todas as colunas com missing imputadas\n",
    "        array_imp = imp_mean.fit_transform(df[quantitativos])\n",
    "        df = pd.DataFrame(array_imp, columns = quantitativos)\n",
    "        \n",
    "    elif method == 'empty':\n",
    "        return df\n",
    "    else:\n",
    "        print(\"method not available or invalid\")\n",
    "        return None\n",
    "    return df\n",
    "        "
   ],
   "outputs": [],
   "metadata": {}
  },
  {
   "cell_type": "code",
   "execution_count": 432,
   "source": [
    "def test_column(df, col, method, class_col = None):\n",
    "    compare_means = []\n",
    "    compare_data = []\n",
    "    k = [x for x in range(5,100,5)]\n",
    "    for j in range(len(k)):\n",
    "        for i in range(50):\n",
    "            df_imp = df.copy()\n",
    "            df_imp = imputation_test(k[j], df_imp, col, method)\n",
    "            if df_imp is None:\n",
    "                continue\n",
    "            row = [method, k[j], col]\n",
    "            row += compare(df[col], df_imp[col], class_data = None)\n",
    "            compare_data.append(row)\n",
    "            #print(compare_data)\n",
    "        #compare_data = np.array(compare_data)\n",
    "        #compare_means.append(compare_data.mean(axis = 0))\n",
    "    if class_col:\n",
    "        return pd.DataFrame(compare_data, columns = ['imputation method', 'pct imputed', 'attribute', 'Δmean', 'Δstd', 'Δmedian', 'Δmin', 'Δmax','Δcorrel'])\n",
    "    return pd.DataFrame(compare_data, columns = ['imputation method', 'pct imputed', 'attribute', 'Δmean', 'Δstd', 'Δmedian', 'Δmin', 'Δmax' ])\n",
    "    "
   ],
   "outputs": [],
   "metadata": {}
  },
  {
   "cell_type": "code",
   "execution_count": 429,
   "source": [
    "def generate_results(df, method):\n",
    "    df_nan = df.copy()  # df auxiliar utilizando apenas as colunas quantitativas\n",
    "    data = [] # array que armazenará os dados do dataframe resultante\n",
    "    data_ = []\n",
    "    df_vis1 = [] # array que armazenará o df resultante de cada coluna de df_nan\n",
    "    for col in quantitativos:\n",
    "        print(col)\n",
    "        data = test_column(df_nan, col, method)\n",
    "        df_vis1.append(pd.DataFrame(data = data))\n",
    "    print(\"done\")\n",
    "    df_vis = pd.concat(df_vis1)\n",
    "    return df_vis"
   ],
   "outputs": [],
   "metadata": {}
  },
  {
   "cell_type": "code",
   "execution_count": null,
   "source": [],
   "outputs": [],
   "metadata": {}
  },
  {
   "cell_type": "markdown",
   "source": [
    "# Teste de imputação"
   ],
   "metadata": {}
  },
  {
   "cell_type": "code",
   "execution_count": 424,
   "source": [
    "df_vis1 = generate_results(df, 'empty')\n",
    "# df_vis2 = generate_results(df, 'median')\n",
    "# df_vis3 = generate_results(df, 'mode')\n",
    "# df_vis = pd.concat([df_vis1, df_vis2, df_vis3])"
   ],
   "outputs": [
    {
     "output_type": "stream",
     "name": "stdout",
     "text": [
      "total_confirmed\n",
      "total_deaths\n",
      "total_recovered\n",
      "active_cases\n",
      "serious_or_critical\n",
      "total_cases_per_1m_population\n",
      "total_deaths_per_1m_population\n",
      "total_tests\n",
      "total_tests_per_1m_population\n",
      "population\n",
      "done\n"
     ]
    }
   ],
   "metadata": {
    "scrolled": false
   }
  },
  {
   "cell_type": "code",
   "execution_count": 430,
   "source": [
    "def generate_vis(df_vis, coluna):\n",
    "    fig, axes = plt.subplots(nrows=4, ncols=1, figsize=(10, 30))\n",
    "    \n",
    "    sns.boxplot(ax=axes[0], x = 'pct imputed', y = 'Δmean', hue = 'imputation method', data = df_vis[df_vis['attribute'] == coluna], palette = 'Set2', showfliers = False); axes[0].set_title(coluna) \n",
    "    sns.boxplot(ax=axes[1], x = 'pct imputed', y = 'Δmedian', hue = 'imputation method', data = df_vis[df_vis['attribute'] == coluna], palette = 'Set2', showfliers = False); \n",
    "    sns.boxplot(ax=axes[2], x = 'pct imputed', y = 'Δstd', hue = 'imputation method', data = df_vis[df_vis['attribute'] == coluna], palette = 'Set2', showfliers = False); \n",
    "#     sns.boxplot(ax=axes[3], x = 'pct imputed', y = 'Δmin', hue = 'imputation method', data = df_vis[df_vis['attribute'] == coluna], palette = 'Pastel1', showfliers = False); \n",
    "#     sns.boxplot(ax=axes[4], x = 'pct imputed', y = 'Δmax', hue = 'imputation method', data = df_vis[df_vis['attribute'] == coluna], palette = 'Pastel1', showfliers = False); \n",
    "    sns.regplot(ax=axes[3], x = 'pct imputed', y = 'serious_or_critical', hue = 'imputation method', data = df_vis[df_vis['attribute'] == coluna], palette=\"Blues_d\"); \n",
    "     \n",
    "        \n",
    "    axes[0].axhline(y=0, linestyle = '--')\n",
    "    axes[1].axhline(y=0, linestyle = '--')\n",
    "    axes[2].axhline(y=0, linestyle = '--')\n",
    "    axes[3].axhline(y=0, linestyle = '--')\n"
   ],
   "outputs": [],
   "metadata": {}
  },
  {
   "cell_type": "code",
   "execution_count": 431,
   "source": [
    "coluna = []\n",
    "for i in df[quantitativos]:\n",
    "    coluna.append(i)\n",
    "#     print(df[i].describe())\n",
    "# print(coluna[0:2])\n",
    "\n",
    "generate_vis(df_vis1, coluna[0])"
   ],
   "outputs": [
    {
     "output_type": "display_data",
     "data": {
      "text/plain": [
       "<Figure size 720x2160 with 4 Axes>"
      ],
      "image/png": "[encoded data removed]"
     },
     "metadata": {
      "needs_background": "light"
     }
    }
   ],
   "metadata": {
    "scrolled": false
   }
  },
  {
   "cell_type": "markdown",
   "source": [
    "# Coluna Idade"
   ],
   "metadata": {}
  },
  {
   "cell_type": "code",
   "execution_count": null,
   "source": [
    "colunas = df_vis2['nome'].unique()\n",
    "generate_vis(df_vis2, colunas[0])"
   ],
   "outputs": [],
   "metadata": {
    "scrolled": true
   }
  },
  {
   "cell_type": "markdown",
   "source": [
    "# Coluna Vontade"
   ],
   "metadata": {}
  },
  {
   "cell_type": "code",
   "execution_count": null,
   "source": [
    "generate_vis(df_vis, colunas[1])"
   ],
   "outputs": [],
   "metadata": {
    "scrolled": true
   }
  },
  {
   "cell_type": "markdown",
   "source": [
    "# Coluna Raiva"
   ],
   "metadata": {}
  },
  {
   "cell_type": "code",
   "execution_count": null,
   "source": [
    "generate_vis(df_vis, colunas[2])"
   ],
   "outputs": [],
   "metadata": {
    "scrolled": true
   }
  },
  {
   "cell_type": "markdown",
   "source": [
    "# Coluna Medo"
   ],
   "metadata": {}
  },
  {
   "cell_type": "code",
   "execution_count": null,
   "source": [
    "generate_vis(df_vis, colunas[3])"
   ],
   "outputs": [],
   "metadata": {
    "scrolled": true
   }
  },
  {
   "cell_type": "markdown",
   "source": [
    "# Coluna Cautela"
   ],
   "metadata": {}
  },
  {
   "cell_type": "code",
   "execution_count": null,
   "source": [
    "generate_vis(df_vis, colunas[4])"
   ],
   "outputs": [],
   "metadata": {
    "scrolled": true
   }
  },
  {
   "cell_type": "markdown",
   "source": [
    "# Coluna Inibição"
   ],
   "metadata": {}
  },
  {
   "cell_type": "code",
   "execution_count": null,
   "source": [
    "generate_vis(df_vis, colunas[5])"
   ],
   "outputs": [],
   "metadata": {
    "scrolled": true
   }
  },
  {
   "cell_type": "markdown",
   "source": [
    "# Coluna Sensibilidade"
   ],
   "metadata": {}
  },
  {
   "cell_type": "code",
   "execution_count": null,
   "source": [
    "generate_vis(df_vis, colunas[6])"
   ],
   "outputs": [],
   "metadata": {
    "scrolled": true
   }
  },
  {
   "cell_type": "markdown",
   "source": [
    "# Coluna Coping"
   ],
   "metadata": {}
  },
  {
   "cell_type": "code",
   "execution_count": null,
   "source": [
    "generate_vis(df_vis, colunas[7])"
   ],
   "outputs": [],
   "metadata": {
    "scrolled": true
   }
  },
  {
   "cell_type": "code",
   "execution_count": null,
   "source": [],
   "outputs": [],
   "metadata": {}
  },
  {
   "cell_type": "code",
   "execution_count": null,
   "source": [
    "df_vis4 = generate_results(df, 'knn_2')\n",
    "df_vis5 = generate_results(df, 'knn_3')\n",
    "df_vis6 = generate_results(df, 'knn_4')\n",
    "df_vis7 = generate_results(df, 'knn_5')"
   ],
   "outputs": [],
   "metadata": {}
  },
  {
   "cell_type": "code",
   "execution_count": null,
   "source": [
    "df_vis = pd.concat([df_vis4, df_vis5, df_vis6, df_vis7])"
   ],
   "outputs": [],
   "metadata": {}
  },
  {
   "cell_type": "code",
   "execution_count": null,
   "source": [
    "colunas = df_vis['nome'].unique()\n",
    "generate_vis(df_vis, colunas[1])"
   ],
   "outputs": [],
   "metadata": {
    "scrolled": false
   }
  },
  {
   "cell_type": "code",
   "execution_count": null,
   "source": [
    "generate_vis(df_vis, colunas[2])"
   ],
   "outputs": [],
   "metadata": {}
  },
  {
   "cell_type": "markdown",
   "source": [
    "# Dados Categóricos - Teste de Imputação"
   ],
   "metadata": {}
  },
  {
   "cell_type": "code",
   "execution_count": null,
   "source": [
    "df[categoricos].describe()"
   ],
   "outputs": [],
   "metadata": {}
  },
  {
   "cell_type": "code",
   "execution_count": null,
   "source": [
    "def cat_imputation_test(k,df,col,method):\n",
    "    n_rows = df.shape[0]\n",
    "    df_compare = []\n",
    "    \n",
    "    k_ = int(n_rows*k/100)\n",
    "    to_nan = rd.sample(range(n_rows), k_)  # seleciona aleatorimente k% do numero de linhas total\n",
    "    \n",
    "    df[col].iloc[to_nan] = np.nan  \n",
    "\n",
    "    if method == 'mode':\n",
    "        df[col].fillna(df[col].mode()[0], inplace = True)\n",
    "        \n",
    "    elif method == 'knn' :\n",
    "        imputer = KNNImputer(n_neighbors = 2)\n",
    "        imputed_data = imputer.fit_transform(df)\n",
    "        df_temp = pd.DataFrame(imputed_data)\n",
    "        df_temp.columns = df.columns\n",
    "        df[col] = df_temp[col]  # update only the desired column\n",
    "        \n",
    "    else:\n",
    "        print(\"method not available or invalid\")"
   ],
   "outputs": [],
   "metadata": {}
  },
  {
   "cell_type": "code",
   "execution_count": null,
   "source": [
    "def cat_mean_of(data):\n",
    "    _mean = 0\n",
    "    _std = 0\n",
    "    _median = 0\n",
    "    _min_ = 0\n",
    "    _max_ = 0\n",
    "    for i in range(len(data)):\n",
    "        _mean += data[i][0]\n",
    "        _std += data[i][1]\n",
    "        _median += data[i][2]\n",
    "        _min_ += data[i][3]\n",
    "        _max_ += data[i][4]\n",
    "    mean = round(_mean/len(data), 4)\n",
    "    std = round(_std/len(data), 4)\n",
    "    median = round(_median/len(data), 4)\n",
    "    min_ = round(_min_/len(data), 4)\n",
    "    max_ = round(_max_/len(data), 4)\n",
    "    return [mean, std, median, min_, max_]"
   ],
   "outputs": [],
   "metadata": {}
  },
  {
   "cell_type": "code",
   "execution_count": null,
   "source": [
    "def cat_compare (df1, df2):\n",
    "#     60 % M 40% F\n",
    "#     moda\n",
    "#     correlação ***somente por enquanto\n",
    "#     mean = df2.mean() - df1.mean()\n",
    "#     std = df2.std() - df1.std()\n",
    "    median = df2.median() - df1.median()\n",
    "#     minim = df2.min() - df1.min()\n",
    "#     maxim = df2.max() - df1.max()\n",
    "    return [mean, std, median, minim, maxim]"
   ],
   "outputs": [],
   "metadata": {}
  },
  {
   "cell_type": "code",
   "execution_count": null,
   "source": [
    "def cat_test_column(df, col, method):\n",
    "    data = []\n",
    "    data_ = []\n",
    "    k = [x for x in range(5,100,5)]\n",
    "    df1 = df[col].copy()\n",
    "    for j in range(len(k)):\n",
    "        for i in range(50):\n",
    "            cat_imputation_test(k[j], df, col, method)\n",
    "            df2 = df[col].copy()\n",
    "            data.append(cat_compare(df1, df2))\n",
    "        data_.append(cat_mean_of(data))\n",
    "        print(data_)\n",
    "    return data_"
   ],
   "outputs": [],
   "metadata": {}
  },
  {
   "cell_type": "code",
   "execution_count": null,
   "source": [
    "def cat_generate_results(df, method):\n",
    "    df_nan = df[categoricos].copy()  # df auxiliar utilizando apenas as colunas quantitativas\n",
    "    nao_numericos = []\n",
    "    data = [] # array que armazenará os dados do dataframe resultante\n",
    "    data_ = []\n",
    "    k = [x for x in range(5,100,5)] # porcentagem de variáveis a serem retiradas aleatóriamente de cada coluna de df_nan\n",
    "    df_vis1 = [] # array que armazenará o df resultante de cada coluna de df_nan\n",
    "    \n",
    "    for col in df_nan.columns:\n",
    "#         if type(df_nan[col].loc[0]) is str:\n",
    "#             nao_numericos.append(col)\n",
    "#         else:\n",
    "            print(col)\n",
    "            data = cat_test_column(df_nan, col, method)\n",
    "            d = {'imputation_method' : method,\n",
    "              'nan values' : k,\n",
    "              'nome' : col,\n",
    "              'Δ mean' : [data[i][0] for i in range(19)],\n",
    "              'Δ std' : [data[i][1] for i in range(19)],\n",
    "              'Δ median' : [data[i][2] for i in range(19)],\n",
    "              'Δ min' : [data[i][3] for i in range(19)],\n",
    "              'Δ max' : [data[i][4] for i in range(19)]\n",
    "                }\n",
    "            df_vis1.append(pd.DataFrame(data = d))\n",
    "    print(\"done\")\n",
    "    df_vis = pd.concat(df_vis1)\n",
    "    return df_vis"
   ],
   "outputs": [],
   "metadata": {}
  },
  {
   "cell_type": "code",
   "execution_count": null,
   "source": [
    "def cat_generate_vis(df_vis, coluna):\n",
    "    fig, axes = plt.subplots(nrows=5, ncols=1, figsize=(10,30))\n",
    "    sns.barplot(ax=axes[0], x = 'pct imputed', y = 'Δmean', hue = 'imputation method', data = df_vis[df_vis['attribute'] == coluna], palette=\"Blues_d\"); axes[0].set_title(coluna) \n",
    "    sns.barplot(ax=axes[1], x = 'pct imputed', y = 'Δmedian', hue = 'imputation method', data = df_vis[df_vis['attribute'] == coluna], palette=\"Blues_d\"); \n",
    "    sns.barplot(ax=axes[2], x = 'pct imputed', y = 'Δstd', hue = 'imputation method', data = df_vis[df_vis['attribute'] == coluna], palette=\"Blues_d\"); \n",
    "    sns.barplot(ax=axes[3], x = 'pct imputed', y = 'Δmin', hue = 'imputation method', data = df_vis[df_vis['attribute'] == coluna], palette=\"Blues_d\"); \n",
    "    sns.barplot(ax=axes[4], x = 'pct imputed', y = 'Δmax', hue = 'imputation method', data = df_vis[df_vis['attribute'] == coluna], palette=\"Blues_d\"); "
   ],
   "outputs": [],
   "metadata": {}
  },
  {
   "cell_type": "code",
   "execution_count": null,
   "source": [
    "df_vis1 = cat_generate_results(df, 'mode')"
   ],
   "outputs": [],
   "metadata": {}
  },
  {
   "cell_type": "code",
   "execution_count": null,
   "source": [
    "colunas = df_vis1['nome'].unique()\n",
    "cat_generate_vis(df_vis1, colunas[1])"
   ],
   "outputs": [],
   "metadata": {}
  },
  {
   "cell_type": "code",
   "execution_count": null,
   "source": [
    "df_vis = generate_results(df, \"missforest\")\n",
    "generate_vis(df, \"missforest\")\n",
    "\n",
    "fig, axes = plt.subplots(nrows=4, ncols=1, figsize=(12,10))\n",
    "sns.barplot(ax=axes[0], x='pct imputed', y='Δ std', hue='nome', data=df_vis); \n",
    "sns.barplot(ax=axes[1], x='pct imputed', y='Δ mean', hue='nome', data=df_vis); \n",
    "sns.barplot(ax=axes[2], x='pct imputed', y='Δ median', hue='nome', data=df_vis); \n",
    "sns.barplot(ax=axes[3], x='pct imputed', y='Δ max', hue='nome', data=df_vis); "
   ],
   "outputs": [],
   "metadata": {}
  },
  {
   "cell_type": "code",
   "execution_count": null,
   "source": [],
   "outputs": [],
   "metadata": {}
  },
  {
   "cell_type": "code",
   "execution_count": null,
   "source": [
    "def stats_ (col):\n",
    "    df_pos = df.loc[df['THB'] == 'Sim']\n",
    "    df_neg = df.loc[df['THB'] != 'Sim']\n",
    "    var = col\n",
    "    tstat, pval = stats.ttest_ind(df_pos[var], df_neg[var], nan_policy='omit')\n",
    "    return tstat, pval"
   ],
   "outputs": [],
   "metadata": {}
  }
 ],
 "metadata": {
  "kernelspec": {
   "name": "python3",
   "display_name": "Python 3.9.1 64-bit"
  },
  "language_info": {
   "codemirror_mode": {
    "name": "ipython",
    "version": 3
   },
   "file_extension": ".py",
   "mimetype": "text/x-python",
   "name": "python",
   "nbconvert_exporter": "python",
   "pygments_lexer": "ipython3",
   "version": "3.9.1"
  },
  "interpreter": {
   "hash": "b8e920ee31e7e3dc283331744284dc5060870b60f8b605138959489677438823"
  }
 },
 "nbformat": 4,
 "nbformat_minor": 4
}