{
 "cells": [
  {
   "cell_type": "code",
   "execution_count": 2,
   "source": [
    "import matplotlib.pyplot as plt\r\n",
    "import pandas as pd\r\n",
    "import numpy as np\r\n",
    "import seaborn as sns\r\n",
    "import random as rd\r\n",
    "import os\r\n",
    "from missingpy import MissForest\r\n",
    "from sklearn.impute import KNNImputer\r\n",
    "from sklearn.experimental import enable_iterative_imputer\r\n",
    "from sklearn.impute import IterativeImputer\r\n",
    "from sklearn.impute import SimpleImputer\r\n",
    "from scipy import stats\r\n",
    "import statsmodels as sm\r\n",
    "from statsmodels.stats.weightstats import ztest\r\n",
    "from statsmodels.imputation import mice\r\n",
    "import plotly"
   ],
   "outputs": [],
   "metadata": {}
  },
  {
   "cell_type": "code",
   "execution_count": 3,
   "source": [
    "%matplotlib inline\r\n",
    "\r\n",
    "# @grellert: removendo warnings chatos\r\n",
    "import sys\r\n",
    "\r\n",
    "if not sys.warnoptions:\r\n",
    "    import warnings\r\n",
    "    warnings.simplefilter(\"ignore\")\r\n"
   ],
   "outputs": [],
   "metadata": {}
  },
  {
   "cell_type": "code",
   "execution_count": 4,
   "source": [
    "df = pd.read_csv(os.path.join('D:/', 'bolsa PIBIC', 'Covid19_Data', 'csv', 'worldometer_coronavirus_summary_data.csv'))\r\n",
    "df"
   ],
   "outputs": [
    {
     "output_type": "execute_result",
     "data": {
      "text/plain": [
       "                       country          continent  total_confirmed  \\\n",
       "0                  Afghanistan               Asia           147473   \n",
       "1                      Albania             Europe           133081   \n",
       "2                      Algeria             Africa           171392   \n",
       "3                      Andorra             Europe            14678   \n",
       "4                       Angola             Africa            42646   \n",
       "..                         ...                ...              ...   \n",
       "215  Wallis And Futuna Islands  Australia/Oceania              445   \n",
       "216             Western Sahara             Africa               10   \n",
       "217                      Yemen               Asia             7061   \n",
       "218                     Zambia             Africa           195816   \n",
       "219                   Zimbabwe             Africa           107490   \n",
       "\n",
       "     total_deaths  total_recovered  active_cases  serious_or_critical  \\\n",
       "0          6736.0          98073.0       42664.0               1124.0   \n",
       "1          2457.0         130222.0         402.0                  3.0   \n",
       "2          4254.0         115276.0       51862.0                 47.0   \n",
       "3           128.0          14210.0         340.0                  NaN   \n",
       "4          1008.0          36708.0        4930.0                  8.0   \n",
       "..            ...              ...           ...                  ...   \n",
       "215           7.0            438.0           0.0                  NaN   \n",
       "216           1.0              8.0           1.0                  NaN   \n",
       "217        1375.0           4185.0        1501.0                 23.0   \n",
       "218        3389.0         187236.0        5191.0                422.0   \n",
       "219        3490.0          74562.0       29438.0                 33.0   \n",
       "\n",
       "     total_cases_per_1m_population  total_deaths_per_1m_population  \\\n",
       "0                             3699                           169.0   \n",
       "1                            46299                           855.0   \n",
       "2                             3834                            95.0   \n",
       "3                           189643                          1654.0   \n",
       "4                             1256                            30.0   \n",
       "..                             ...                             ...   \n",
       "215                          40359                           635.0   \n",
       "216                             16                             2.0   \n",
       "217                            231                            45.0   \n",
       "218                          10341                           179.0   \n",
       "219                           7121                           231.0   \n",
       "\n",
       "     total_tests  total_tests_per_1m_population  population  \n",
       "0       707244.0                        17739.0    39869084  \n",
       "1       916777.0                       318945.0     2874408  \n",
       "2       230861.0                         5164.0    44701619  \n",
       "3       193595.0                      2501292.0       77398  \n",
       "4       681443.0                        20065.0    33961015  \n",
       "..           ...                            ...         ...  \n",
       "215      20508.0                      1859967.0       11026  \n",
       "216          NaN                            NaN      613090  \n",
       "217     152937.0                         5009.0    30530919  \n",
       "218    2089592.0                       110352.0    18935680  \n",
       "219    1088771.0                        72125.0    15095525  \n",
       "\n",
       "[220 rows x 12 columns]"
      ],
      "text/html": [
       "<div>\n",
       "<style scoped>\n",
       "    .dataframe tbody tr th:only-of-type {\n",
       "        vertical-align: middle;\n",
       "    }\n",
       "\n",
       "    .dataframe tbody tr th {\n",
       "        vertical-align: top;\n",
       "    }\n",
       "\n",
       "    .dataframe thead th {\n",
       "        text-align: right;\n",
       "    }\n",
       "</style>\n",
       "<table border=\"1\" class=\"dataframe\">\n",
       "  <thead>\n",
       "    <tr style=\"text-align: right;\">\n",
       "      <th></th>\n",
       "      <th>country</th>\n",
       "      <th>continent</th>\n",
       "      <th>total_confirmed</th>\n",
       "      <th>total_deaths</th>\n",
       "      <th>total_recovered</th>\n",
       "      <th>active_cases</th>\n",
       "      <th>serious_or_critical</th>\n",
       "      <th>total_cases_per_1m_population</th>\n",
       "      <th>total_deaths_per_1m_population</th>\n",
       "      <th>total_tests</th>\n",
       "      <th>total_tests_per_1m_population</th>\n",
       "      <th>population</th>\n",
       "    </tr>\n",
       "  </thead>\n",
       "  <tbody>\n",
       "    <tr>\n",
       "      <th>0</th>\n",
       "      <td>Afghanistan</td>\n",
       "      <td>Asia</td>\n",
       "      <td>147473</td>\n",
       "      <td>6736.0</td>\n",
       "      <td>98073.0</td>\n",
       "      <td>42664.0</td>\n",
       "      <td>1124.0</td>\n",
       "      <td>3699</td>\n",
       "      <td>169.0</td>\n",
       "      <td>707244.0</td>\n",
       "      <td>17739.0</td>\n",
       "      <td>39869084</td>\n",
       "    </tr>\n",
       "    <tr>\n",
       "      <th>1</th>\n",
       "      <td>Albania</td>\n",
       "      <td>Europe</td>\n",
       "      <td>133081</td>\n",
       "      <td>2457.0</td>\n",
       "      <td>130222.0</td>\n",
       "      <td>402.0</td>\n",
       "      <td>3.0</td>\n",
       "      <td>46299</td>\n",
       "      <td>855.0</td>\n",
       "      <td>916777.0</td>\n",
       "      <td>318945.0</td>\n",
       "      <td>2874408</td>\n",
       "    </tr>\n",
       "    <tr>\n",
       "      <th>2</th>\n",
       "      <td>Algeria</td>\n",
       "      <td>Africa</td>\n",
       "      <td>171392</td>\n",
       "      <td>4254.0</td>\n",
       "      <td>115276.0</td>\n",
       "      <td>51862.0</td>\n",
       "      <td>47.0</td>\n",
       "      <td>3834</td>\n",
       "      <td>95.0</td>\n",
       "      <td>230861.0</td>\n",
       "      <td>5164.0</td>\n",
       "      <td>44701619</td>\n",
       "    </tr>\n",
       "    <tr>\n",
       "      <th>3</th>\n",
       "      <td>Andorra</td>\n",
       "      <td>Europe</td>\n",
       "      <td>14678</td>\n",
       "      <td>128.0</td>\n",
       "      <td>14210.0</td>\n",
       "      <td>340.0</td>\n",
       "      <td>NaN</td>\n",
       "      <td>189643</td>\n",
       "      <td>1654.0</td>\n",
       "      <td>193595.0</td>\n",
       "      <td>2501292.0</td>\n",
       "      <td>77398</td>\n",
       "    </tr>\n",
       "    <tr>\n",
       "      <th>4</th>\n",
       "      <td>Angola</td>\n",
       "      <td>Africa</td>\n",
       "      <td>42646</td>\n",
       "      <td>1008.0</td>\n",
       "      <td>36708.0</td>\n",
       "      <td>4930.0</td>\n",
       "      <td>8.0</td>\n",
       "      <td>1256</td>\n",
       "      <td>30.0</td>\n",
       "      <td>681443.0</td>\n",
       "      <td>20065.0</td>\n",
       "      <td>33961015</td>\n",
       "    </tr>\n",
       "    <tr>\n",
       "      <th>...</th>\n",
       "      <td>...</td>\n",
       "      <td>...</td>\n",
       "      <td>...</td>\n",
       "      <td>...</td>\n",
       "      <td>...</td>\n",
       "      <td>...</td>\n",
       "      <td>...</td>\n",
       "      <td>...</td>\n",
       "      <td>...</td>\n",
       "      <td>...</td>\n",
       "      <td>...</td>\n",
       "      <td>...</td>\n",
       "    </tr>\n",
       "    <tr>\n",
       "      <th>215</th>\n",
       "      <td>Wallis And Futuna Islands</td>\n",
       "      <td>Australia/Oceania</td>\n",
       "      <td>445</td>\n",
       "      <td>7.0</td>\n",
       "      <td>438.0</td>\n",
       "      <td>0.0</td>\n",
       "      <td>NaN</td>\n",
       "      <td>40359</td>\n",
       "      <td>635.0</td>\n",
       "      <td>20508.0</td>\n",
       "      <td>1859967.0</td>\n",
       "      <td>11026</td>\n",
       "    </tr>\n",
       "    <tr>\n",
       "      <th>216</th>\n",
       "      <td>Western Sahara</td>\n",
       "      <td>Africa</td>\n",
       "      <td>10</td>\n",
       "      <td>1.0</td>\n",
       "      <td>8.0</td>\n",
       "      <td>1.0</td>\n",
       "      <td>NaN</td>\n",
       "      <td>16</td>\n",
       "      <td>2.0</td>\n",
       "      <td>NaN</td>\n",
       "      <td>NaN</td>\n",
       "      <td>613090</td>\n",
       "    </tr>\n",
       "    <tr>\n",
       "      <th>217</th>\n",
       "      <td>Yemen</td>\n",
       "      <td>Asia</td>\n",
       "      <td>7061</td>\n",
       "      <td>1375.0</td>\n",
       "      <td>4185.0</td>\n",
       "      <td>1501.0</td>\n",
       "      <td>23.0</td>\n",
       "      <td>231</td>\n",
       "      <td>45.0</td>\n",
       "      <td>152937.0</td>\n",
       "      <td>5009.0</td>\n",
       "      <td>30530919</td>\n",
       "    </tr>\n",
       "    <tr>\n",
       "      <th>218</th>\n",
       "      <td>Zambia</td>\n",
       "      <td>Africa</td>\n",
       "      <td>195816</td>\n",
       "      <td>3389.0</td>\n",
       "      <td>187236.0</td>\n",
       "      <td>5191.0</td>\n",
       "      <td>422.0</td>\n",
       "      <td>10341</td>\n",
       "      <td>179.0</td>\n",
       "      <td>2089592.0</td>\n",
       "      <td>110352.0</td>\n",
       "      <td>18935680</td>\n",
       "    </tr>\n",
       "    <tr>\n",
       "      <th>219</th>\n",
       "      <td>Zimbabwe</td>\n",
       "      <td>Africa</td>\n",
       "      <td>107490</td>\n",
       "      <td>3490.0</td>\n",
       "      <td>74562.0</td>\n",
       "      <td>29438.0</td>\n",
       "      <td>33.0</td>\n",
       "      <td>7121</td>\n",
       "      <td>231.0</td>\n",
       "      <td>1088771.0</td>\n",
       "      <td>72125.0</td>\n",
       "      <td>15095525</td>\n",
       "    </tr>\n",
       "  </tbody>\n",
       "</table>\n",
       "<p>220 rows × 12 columns</p>\n",
       "</div>"
      ]
     },
     "metadata": {},
     "execution_count": 4
    }
   ],
   "metadata": {
    "scrolled": true
   }
  },
  {
   "cell_type": "code",
   "execution_count": 5,
   "source": [
    "df = df.dropna()\r\n",
    "print(df)"
   ],
   "outputs": [
    {
     "output_type": "stream",
     "name": "stdout",
     "text": [
      "                 country      continent  total_confirmed  total_deaths  \\\n",
      "0            Afghanistan           Asia           147473        6736.0   \n",
      "1                Albania         Europe           133081        2457.0   \n",
      "2                Algeria         Africa           171392        4254.0   \n",
      "4                 Angola         Africa            42646        1008.0   \n",
      "6    Antigua And Barbuda  North America             1303          43.0   \n",
      "..                   ...            ...              ...           ...   \n",
      "211           Uzbekistan           Asia           129327         874.0   \n",
      "213            Venezuela  South America           304726        3576.0   \n",
      "217                Yemen           Asia             7061        1375.0   \n",
      "218               Zambia         Africa           195816        3389.0   \n",
      "219             Zimbabwe         Africa           107490        3490.0   \n",
      "\n",
      "     total_recovered  active_cases  serious_or_critical  \\\n",
      "0            98073.0       42664.0               1124.0   \n",
      "1           130222.0         402.0                  3.0   \n",
      "2           115276.0       51862.0                 47.0   \n",
      "4            36708.0        4930.0                  8.0   \n",
      "6             1235.0          25.0                  3.0   \n",
      "..               ...           ...                  ...   \n",
      "211         123164.0        5289.0                 23.0   \n",
      "213         288864.0       12286.0                424.0   \n",
      "217           4185.0        1501.0                 23.0   \n",
      "218         187236.0        5191.0                422.0   \n",
      "219          74562.0       29438.0                 33.0   \n",
      "\n",
      "     total_cases_per_1m_population  total_deaths_per_1m_population  \\\n",
      "0                             3699                           169.0   \n",
      "1                            46299                           855.0   \n",
      "2                             3834                            95.0   \n",
      "4                             1256                            30.0   \n",
      "6                            13188                           435.0   \n",
      "..                             ...                             ...   \n",
      "211                           3805                            26.0   \n",
      "213                          10749                           126.0   \n",
      "217                            231                            45.0   \n",
      "218                          10341                           179.0   \n",
      "219                           7121                           231.0   \n",
      "\n",
      "     total_tests  total_tests_per_1m_population  population  \n",
      "0       707244.0                        17739.0    39869084  \n",
      "1       916777.0                       318945.0     2874408  \n",
      "2       230861.0                         5164.0    44701619  \n",
      "4       681443.0                        20065.0    33961015  \n",
      "6        17147.0                       173549.0       98802  \n",
      "..           ...                            ...         ...  \n",
      "211    1377915.0                        40538.0    33990675  \n",
      "213    3359014.0                       118488.0    28349033  \n",
      "217     152937.0                         5009.0    30530919  \n",
      "218    2089592.0                       110352.0    18935680  \n",
      "219    1088771.0                        72125.0    15095525  \n",
      "\n",
      "[144 rows x 12 columns]\n"
     ]
    }
   ],
   "metadata": {}
  },
  {
   "cell_type": "code",
   "execution_count": 6,
   "source": [
    "np.where(pd.isnull(df))"
   ],
   "outputs": [
    {
     "output_type": "execute_result",
     "data": {
      "text/plain": [
       "(array([], dtype=int64), array([], dtype=int64))"
      ]
     },
     "metadata": {},
     "execution_count": 6
    }
   ],
   "metadata": {}
  },
  {
   "cell_type": "code",
   "execution_count": 7,
   "source": [
    "df.describe()"
   ],
   "outputs": [
    {
     "output_type": "execute_result",
     "data": {
      "text/plain": [
       "       total_confirmed   total_deaths  total_recovered  active_cases  \\\n",
       "count     1.440000e+02     144.000000     1.440000e+02  1.440000e+02   \n",
       "mean      1.307081e+06   26832.638889     1.184411e+06  9.583686e+04   \n",
       "std       4.386056e+06   83171.849105     3.955494e+06  4.729728e+05   \n",
       "min       5.890000e+02       3.000000     1.040000e+02 -1.489000e+03   \n",
       "25%       3.404525e+04     507.000000     3.120325e+04  1.206000e+03   \n",
       "50%       1.970805e+05    2901.000000     1.695775e+05  9.814500e+03   \n",
       "75%       6.737082e+05   14695.000000     6.552955e+05  3.883925e+04   \n",
       "max       3.573397e+07  629290.000000     3.081287e+07  5.438593e+06   \n",
       "\n",
       "       serious_or_critical  total_cases_per_1m_population  \\\n",
       "count           144.000000                     144.000000   \n",
       "mean            597.895833                   48260.590278   \n",
       "std            1632.836961                   40317.198544   \n",
       "min               1.000000                      65.000000   \n",
       "25%               9.000000                   10647.000000   \n",
       "50%              36.500000                   42805.000000   \n",
       "75%             307.000000                   80596.750000   \n",
       "max            9375.000000                  162265.000000   \n",
       "\n",
       "       total_deaths_per_1m_population   total_tests  \\\n",
       "count                      144.000000  1.440000e+02   \n",
       "mean                       806.881944  1.955644e+07   \n",
       "std                        772.783946  6.523976e+07   \n",
       "min                          3.000000  1.714700e+04   \n",
       "25%                        123.000000  3.612762e+05   \n",
       "50%                        607.000000  2.082408e+06   \n",
       "75%                       1226.250000  1.142994e+07   \n",
       "max                       3117.000000  5.295773e+08   \n",
       "\n",
       "       total_tests_per_1m_population    population  \n",
       "count                   1.440000e+02  1.440000e+02  \n",
       "mean                    9.031496e+05  4.726722e+07  \n",
       "std                     1.677604e+06  1.704177e+08  \n",
       "min                     5.009000e+03  3.044800e+04  \n",
       "25%                     1.159155e+05  2.063909e+06  \n",
       "50%                     4.277675e+05  9.227520e+06  \n",
       "75%                     1.015640e+06  3.396843e+07  \n",
       "max                     1.311142e+07  1.439324e+09  "
      ],
      "text/html": [
       "<div>\n",
       "<style scoped>\n",
       "    .dataframe tbody tr th:only-of-type {\n",
       "        vertical-align: middle;\n",
       "    }\n",
       "\n",
       "    .dataframe tbody tr th {\n",
       "        vertical-align: top;\n",
       "    }\n",
       "\n",
       "    .dataframe thead th {\n",
       "        text-align: right;\n",
       "    }\n",
       "</style>\n",
       "<table border=\"1\" class=\"dataframe\">\n",
       "  <thead>\n",
       "    <tr style=\"text-align: right;\">\n",
       "      <th></th>\n",
       "      <th>total_confirmed</th>\n",
       "      <th>total_deaths</th>\n",
       "      <th>total_recovered</th>\n",
       "      <th>active_cases</th>\n",
       "      <th>serious_or_critical</th>\n",
       "      <th>total_cases_per_1m_population</th>\n",
       "      <th>total_deaths_per_1m_population</th>\n",
       "      <th>total_tests</th>\n",
       "      <th>total_tests_per_1m_population</th>\n",
       "      <th>population</th>\n",
       "    </tr>\n",
       "  </thead>\n",
       "  <tbody>\n",
       "    <tr>\n",
       "      <th>count</th>\n",
       "      <td>1.440000e+02</td>\n",
       "      <td>144.000000</td>\n",
       "      <td>1.440000e+02</td>\n",
       "      <td>1.440000e+02</td>\n",
       "      <td>144.000000</td>\n",
       "      <td>144.000000</td>\n",
       "      <td>144.000000</td>\n",
       "      <td>1.440000e+02</td>\n",
       "      <td>1.440000e+02</td>\n",
       "      <td>1.440000e+02</td>\n",
       "    </tr>\n",
       "    <tr>\n",
       "      <th>mean</th>\n",
       "      <td>1.307081e+06</td>\n",
       "      <td>26832.638889</td>\n",
       "      <td>1.184411e+06</td>\n",
       "      <td>9.583686e+04</td>\n",
       "      <td>597.895833</td>\n",
       "      <td>48260.590278</td>\n",
       "      <td>806.881944</td>\n",
       "      <td>1.955644e+07</td>\n",
       "      <td>9.031496e+05</td>\n",
       "      <td>4.726722e+07</td>\n",
       "    </tr>\n",
       "    <tr>\n",
       "      <th>std</th>\n",
       "      <td>4.386056e+06</td>\n",
       "      <td>83171.849105</td>\n",
       "      <td>3.955494e+06</td>\n",
       "      <td>4.729728e+05</td>\n",
       "      <td>1632.836961</td>\n",
       "      <td>40317.198544</td>\n",
       "      <td>772.783946</td>\n",
       "      <td>6.523976e+07</td>\n",
       "      <td>1.677604e+06</td>\n",
       "      <td>1.704177e+08</td>\n",
       "    </tr>\n",
       "    <tr>\n",
       "      <th>min</th>\n",
       "      <td>5.890000e+02</td>\n",
       "      <td>3.000000</td>\n",
       "      <td>1.040000e+02</td>\n",
       "      <td>-1.489000e+03</td>\n",
       "      <td>1.000000</td>\n",
       "      <td>65.000000</td>\n",
       "      <td>3.000000</td>\n",
       "      <td>1.714700e+04</td>\n",
       "      <td>5.009000e+03</td>\n",
       "      <td>3.044800e+04</td>\n",
       "    </tr>\n",
       "    <tr>\n",
       "      <th>25%</th>\n",
       "      <td>3.404525e+04</td>\n",
       "      <td>507.000000</td>\n",
       "      <td>3.120325e+04</td>\n",
       "      <td>1.206000e+03</td>\n",
       "      <td>9.000000</td>\n",
       "      <td>10647.000000</td>\n",
       "      <td>123.000000</td>\n",
       "      <td>3.612762e+05</td>\n",
       "      <td>1.159155e+05</td>\n",
       "      <td>2.063909e+06</td>\n",
       "    </tr>\n",
       "    <tr>\n",
       "      <th>50%</th>\n",
       "      <td>1.970805e+05</td>\n",
       "      <td>2901.000000</td>\n",
       "      <td>1.695775e+05</td>\n",
       "      <td>9.814500e+03</td>\n",
       "      <td>36.500000</td>\n",
       "      <td>42805.000000</td>\n",
       "      <td>607.000000</td>\n",
       "      <td>2.082408e+06</td>\n",
       "      <td>4.277675e+05</td>\n",
       "      <td>9.227520e+06</td>\n",
       "    </tr>\n",
       "    <tr>\n",
       "      <th>75%</th>\n",
       "      <td>6.737082e+05</td>\n",
       "      <td>14695.000000</td>\n",
       "      <td>6.552955e+05</td>\n",
       "      <td>3.883925e+04</td>\n",
       "      <td>307.000000</td>\n",
       "      <td>80596.750000</td>\n",
       "      <td>1226.250000</td>\n",
       "      <td>1.142994e+07</td>\n",
       "      <td>1.015640e+06</td>\n",
       "      <td>3.396843e+07</td>\n",
       "    </tr>\n",
       "    <tr>\n",
       "      <th>max</th>\n",
       "      <td>3.573397e+07</td>\n",
       "      <td>629290.000000</td>\n",
       "      <td>3.081287e+07</td>\n",
       "      <td>5.438593e+06</td>\n",
       "      <td>9375.000000</td>\n",
       "      <td>162265.000000</td>\n",
       "      <td>3117.000000</td>\n",
       "      <td>5.295773e+08</td>\n",
       "      <td>1.311142e+07</td>\n",
       "      <td>1.439324e+09</td>\n",
       "    </tr>\n",
       "  </tbody>\n",
       "</table>\n",
       "</div>"
      ]
     },
     "metadata": {},
     "execution_count": 7
    }
   ],
   "metadata": {}
  },
  {
   "cell_type": "code",
   "execution_count": 8,
   "source": [
    "TH_CATEGORICO = 5\r\n",
    "categoricos = [] \r\n",
    "string = []\r\n",
    "quantitativos = []\r\n",
    "nao_numericos = []\r\n",
    "\r\n",
    "for col in df:\r\n",
    "    # print(col, df[col].unique())\r\n",
    "    unicos = df[col].unique()\r\n",
    "    ## dividindo colunas entre valores categoricos e quantitativos:\r\n",
    "    if unicos.shape[0] < TH_CATEGORICO:\r\n",
    "        categoricos.append(col)\r\n",
    "    elif type(df[col][0]) is str:\r\n",
    "        string.append(col)\r\n",
    "    else: \r\n",
    "        quantitativos.append(col)\r\n",
    "print(f'colunas categoricas: {len(categoricos)}, quantitativas: {len(quantitativos)}, str: {string}')"
   ],
   "outputs": [
    {
     "output_type": "stream",
     "name": "stdout",
     "text": [
      "colunas categoricas: 0, quantitativas: 10, str: ['country', 'continent']\n"
     ]
    }
   ],
   "metadata": {}
  },
  {
   "cell_type": "code",
   "execution_count": 9,
   "source": [
    "df[quantitativos].describe()"
   ],
   "outputs": [
    {
     "output_type": "execute_result",
     "data": {
      "text/plain": [
       "       total_confirmed   total_deaths  total_recovered  active_cases  \\\n",
       "count     1.440000e+02     144.000000     1.440000e+02  1.440000e+02   \n",
       "mean      1.307081e+06   26832.638889     1.184411e+06  9.583686e+04   \n",
       "std       4.386056e+06   83171.849105     3.955494e+06  4.729728e+05   \n",
       "min       5.890000e+02       3.000000     1.040000e+02 -1.489000e+03   \n",
       "25%       3.404525e+04     507.000000     3.120325e+04  1.206000e+03   \n",
       "50%       1.970805e+05    2901.000000     1.695775e+05  9.814500e+03   \n",
       "75%       6.737082e+05   14695.000000     6.552955e+05  3.883925e+04   \n",
       "max       3.573397e+07  629290.000000     3.081287e+07  5.438593e+06   \n",
       "\n",
       "       serious_or_critical  total_cases_per_1m_population  \\\n",
       "count           144.000000                     144.000000   \n",
       "mean            597.895833                   48260.590278   \n",
       "std            1632.836961                   40317.198544   \n",
       "min               1.000000                      65.000000   \n",
       "25%               9.000000                   10647.000000   \n",
       "50%              36.500000                   42805.000000   \n",
       "75%             307.000000                   80596.750000   \n",
       "max            9375.000000                  162265.000000   \n",
       "\n",
       "       total_deaths_per_1m_population   total_tests  \\\n",
       "count                      144.000000  1.440000e+02   \n",
       "mean                       806.881944  1.955644e+07   \n",
       "std                        772.783946  6.523976e+07   \n",
       "min                          3.000000  1.714700e+04   \n",
       "25%                        123.000000  3.612762e+05   \n",
       "50%                        607.000000  2.082408e+06   \n",
       "75%                       1226.250000  1.142994e+07   \n",
       "max                       3117.000000  5.295773e+08   \n",
       "\n",
       "       total_tests_per_1m_population    population  \n",
       "count                   1.440000e+02  1.440000e+02  \n",
       "mean                    9.031496e+05  4.726722e+07  \n",
       "std                     1.677604e+06  1.704177e+08  \n",
       "min                     5.009000e+03  3.044800e+04  \n",
       "25%                     1.159155e+05  2.063909e+06  \n",
       "50%                     4.277675e+05  9.227520e+06  \n",
       "75%                     1.015640e+06  3.396843e+07  \n",
       "max                     1.311142e+07  1.439324e+09  "
      ],
      "text/html": [
       "<div>\n",
       "<style scoped>\n",
       "    .dataframe tbody tr th:only-of-type {\n",
       "        vertical-align: middle;\n",
       "    }\n",
       "\n",
       "    .dataframe tbody tr th {\n",
       "        vertical-align: top;\n",
       "    }\n",
       "\n",
       "    .dataframe thead th {\n",
       "        text-align: right;\n",
       "    }\n",
       "</style>\n",
       "<table border=\"1\" class=\"dataframe\">\n",
       "  <thead>\n",
       "    <tr style=\"text-align: right;\">\n",
       "      <th></th>\n",
       "      <th>total_confirmed</th>\n",
       "      <th>total_deaths</th>\n",
       "      <th>total_recovered</th>\n",
       "      <th>active_cases</th>\n",
       "      <th>serious_or_critical</th>\n",
       "      <th>total_cases_per_1m_population</th>\n",
       "      <th>total_deaths_per_1m_population</th>\n",
       "      <th>total_tests</th>\n",
       "      <th>total_tests_per_1m_population</th>\n",
       "      <th>population</th>\n",
       "    </tr>\n",
       "  </thead>\n",
       "  <tbody>\n",
       "    <tr>\n",
       "      <th>count</th>\n",
       "      <td>1.440000e+02</td>\n",
       "      <td>144.000000</td>\n",
       "      <td>1.440000e+02</td>\n",
       "      <td>1.440000e+02</td>\n",
       "      <td>144.000000</td>\n",
       "      <td>144.000000</td>\n",
       "      <td>144.000000</td>\n",
       "      <td>1.440000e+02</td>\n",
       "      <td>1.440000e+02</td>\n",
       "      <td>1.440000e+02</td>\n",
       "    </tr>\n",
       "    <tr>\n",
       "      <th>mean</th>\n",
       "      <td>1.307081e+06</td>\n",
       "      <td>26832.638889</td>\n",
       "      <td>1.184411e+06</td>\n",
       "      <td>9.583686e+04</td>\n",
       "      <td>597.895833</td>\n",
       "      <td>48260.590278</td>\n",
       "      <td>806.881944</td>\n",
       "      <td>1.955644e+07</td>\n",
       "      <td>9.031496e+05</td>\n",
       "      <td>4.726722e+07</td>\n",
       "    </tr>\n",
       "    <tr>\n",
       "      <th>std</th>\n",
       "      <td>4.386056e+06</td>\n",
       "      <td>83171.849105</td>\n",
       "      <td>3.955494e+06</td>\n",
       "      <td>4.729728e+05</td>\n",
       "      <td>1632.836961</td>\n",
       "      <td>40317.198544</td>\n",
       "      <td>772.783946</td>\n",
       "      <td>6.523976e+07</td>\n",
       "      <td>1.677604e+06</td>\n",
       "      <td>1.704177e+08</td>\n",
       "    </tr>\n",
       "    <tr>\n",
       "      <th>min</th>\n",
       "      <td>5.890000e+02</td>\n",
       "      <td>3.000000</td>\n",
       "      <td>1.040000e+02</td>\n",
       "      <td>-1.489000e+03</td>\n",
       "      <td>1.000000</td>\n",
       "      <td>65.000000</td>\n",
       "      <td>3.000000</td>\n",
       "      <td>1.714700e+04</td>\n",
       "      <td>5.009000e+03</td>\n",
       "      <td>3.044800e+04</td>\n",
       "    </tr>\n",
       "    <tr>\n",
       "      <th>25%</th>\n",
       "      <td>3.404525e+04</td>\n",
       "      <td>507.000000</td>\n",
       "      <td>3.120325e+04</td>\n",
       "      <td>1.206000e+03</td>\n",
       "      <td>9.000000</td>\n",
       "      <td>10647.000000</td>\n",
       "      <td>123.000000</td>\n",
       "      <td>3.612762e+05</td>\n",
       "      <td>1.159155e+05</td>\n",
       "      <td>2.063909e+06</td>\n",
       "    </tr>\n",
       "    <tr>\n",
       "      <th>50%</th>\n",
       "      <td>1.970805e+05</td>\n",
       "      <td>2901.000000</td>\n",
       "      <td>1.695775e+05</td>\n",
       "      <td>9.814500e+03</td>\n",
       "      <td>36.500000</td>\n",
       "      <td>42805.000000</td>\n",
       "      <td>607.000000</td>\n",
       "      <td>2.082408e+06</td>\n",
       "      <td>4.277675e+05</td>\n",
       "      <td>9.227520e+06</td>\n",
       "    </tr>\n",
       "    <tr>\n",
       "      <th>75%</th>\n",
       "      <td>6.737082e+05</td>\n",
       "      <td>14695.000000</td>\n",
       "      <td>6.552955e+05</td>\n",
       "      <td>3.883925e+04</td>\n",
       "      <td>307.000000</td>\n",
       "      <td>80596.750000</td>\n",
       "      <td>1226.250000</td>\n",
       "      <td>1.142994e+07</td>\n",
       "      <td>1.015640e+06</td>\n",
       "      <td>3.396843e+07</td>\n",
       "    </tr>\n",
       "    <tr>\n",
       "      <th>max</th>\n",
       "      <td>3.573397e+07</td>\n",
       "      <td>629290.000000</td>\n",
       "      <td>3.081287e+07</td>\n",
       "      <td>5.438593e+06</td>\n",
       "      <td>9375.000000</td>\n",
       "      <td>162265.000000</td>\n",
       "      <td>3117.000000</td>\n",
       "      <td>5.295773e+08</td>\n",
       "      <td>1.311142e+07</td>\n",
       "      <td>1.439324e+09</td>\n",
       "    </tr>\n",
       "  </tbody>\n",
       "</table>\n",
       "</div>"
      ]
     },
     "metadata": {},
     "execution_count": 9
    }
   ],
   "metadata": {
    "scrolled": true
   }
  },
  {
   "cell_type": "code",
   "execution_count": 10,
   "source": [
    "# grellert: deprecated\r\n",
    "def mean_of(data):\r\n",
    "    _mean = 0\r\n",
    "    _std = 0\r\n",
    "    _median = 0\r\n",
    "    _min_ = 0\r\n",
    "    _max_ = 0\r\n",
    "    for i in range(len(data)):\r\n",
    "        _mean += data[i][0]\r\n",
    "        _std += data[i][1]\r\n",
    "        _median += data[i][2]\r\n",
    "        _min_ += data[i][3]\r\n",
    "        _max_ += data[i][4]\r\n",
    "    mean = round(_mean/len(data), 4)\r\n",
    "    std = round(_std/len(data), 4)\r\n",
    "    median = round(_median/len(data), 4)\r\n",
    "    min_ = round(_min_/len(data), 4)\r\n",
    "    max_ = round(_max_/len(data), 4)\r\n",
    "    return [mean, std, median, min_, max_]"
   ],
   "outputs": [],
   "metadata": {}
  },
  {
   "cell_type": "code",
   "execution_count": 11,
   "source": [
    "def compare (df1, df2, class_data = None):\r\n",
    "    mean= df2.mean() - df1.mean()\r\n",
    "    std= df2.std() - df1.std()\r\n",
    "    median = df2.median() - df1.median()\r\n",
    "    minim = df2.min() - df1.min()\r\n",
    "    maxim = df2.max() - df1.max()\r\n",
    "    # @grellert: adicionando correlacao\r\n",
    "    if class_data is not None:\r\n",
    "        corr_diff = np.corrcoef(df2, class_data)[0][1] - np.corrcoef(df1, class_data)[0][1]\r\n",
    "        return [mean, std, median, minim, maxim, corr_diff]\r\n",
    "    return [mean, std, median, minim, maxim]"
   ],
   "outputs": [],
   "metadata": {}
  },
  {
   "cell_type": "code",
   "execution_count": 12,
   "source": [
    "def imputation_test (k,df_,col,method):\r\n",
    "    df = df_\r\n",
    "    n_rows = df.shape[0]\r\n",
    "    df_compare = []\r\n",
    "    \r\n",
    "    k_ = int(n_rows*k/100)\r\n",
    "    to_nan = rd.sample(range(n_rows), k_)  # seleciona aleatorimente k% do numero de linhas total\r\n",
    "    \r\n",
    "    df[col].iloc[to_nan] = np.nan  \r\n",
    "\r\n",
    "    if method == 'mean':\r\n",
    "        df[col] = df[col].replace(np.nan, df[col].mean())\r\n",
    "\r\n",
    "    elif method == 'median':\r\n",
    "        imputer = SimpleImputer(strategy = 'median')\r\n",
    "#         df[col] = df[col].replace(np.nan, df[col].median())\r\n",
    "        imputer = imputer.fit(np.array(df[col]).reshape(-1,1))\r\n",
    "        df[col] = imputer.transform(np.array(df[col]).reshape(-1,1))\r\n",
    "        \r\n",
    "    elif method == 'mode':\r\n",
    "        df[col].fillna(df[col].mode()[0], inplace = True)\r\n",
    "        \r\n",
    "    # @grellert: tornando o método mais expansível\r\n",
    "    elif method == 'knn' in method:\r\n",
    "        k = method.split('_')[1]\r\n",
    "        imputer = KNNImputer(n_neighbors = k)\r\n",
    "        imputed_data = imputer.fit_transform(df)\r\n",
    "        df_temp = pd.DataFrame(imputed_data)\r\n",
    "        df_temp.columns = df.columns\r\n",
    "        df[col] = df_temp[col]  # update only the desired column\r\n",
    "        \r\n",
    "    elif method == 'missforest':\r\n",
    "        imputer = MissForest(verbose=0, n_estimators = 10, max_depth = 10, max_iter = 2 )\r\n",
    "        imputed_data = imputer.fit_transform(df)\r\n",
    "        df_temp = pd.DataFrame(imputed_data)\r\n",
    "        df_temp.columns = df.columns\r\n",
    "        df[col] = df_temp[col]\r\n",
    "        \r\n",
    "    elif method == 'iterative_imputer': ##still incorrect\r\n",
    "        imp_mean = IterativeImputer()\r\n",
    "        # recebe todo o DataFrame e retorna um np.array com todas as colunas com missing imputadas\r\n",
    "        array_imp = imp_mean.fit_transform(df[quantitativos])\r\n",
    "        df = pd.DataFrame(array_imp, columns = quantitativos)\r\n",
    "        \r\n",
    "    elif method == 'empty':\r\n",
    "        return df\r\n",
    "    else:\r\n",
    "        print(\"method not available or invalid\")\r\n",
    "        return None\r\n",
    "    return df\r\n",
    "        "
   ],
   "outputs": [],
   "metadata": {}
  },
  {
   "cell_type": "code",
   "execution_count": 13,
   "source": [
    "def test_column(df, col, method, class_col = None):\r\n",
    "    compare_means = []\r\n",
    "    compare_data = []\r\n",
    "    k = [x for x in range(5,100,5)]\r\n",
    "    for j in range(len(k)):\r\n",
    "        for i in range(50):\r\n",
    "            df_imp = df.copy()\r\n",
    "            df_imp = imputation_test(k[j], df_imp, col, method)\r\n",
    "            if df_imp is None:\r\n",
    "                continue\r\n",
    "            row = [method, k[j], col]\r\n",
    "            row += compare(df[col], df_imp[col], class_data = None)\r\n",
    "            compare_data.append(row)\r\n",
    "            #print(compare_data)\r\n",
    "        #compare_data = np.array(compare_data)\r\n",
    "        #compare_means.append(compare_data.mean(axis = 0))\r\n",
    "    if class_col:\r\n",
    "        return pd.DataFrame(compare_data, columns = ['imputation method', 'pct imputed', 'attribute', 'Δmean', 'Δstd', 'Δmedian', 'Δmin', 'Δmax','Δcorrel'])\r\n",
    "    return pd.DataFrame(compare_data, columns = ['imputation method', 'pct imputed', 'attribute', 'Δmean', 'Δstd', 'Δmedian', 'Δmin', 'Δmax' ])\r\n",
    "    "
   ],
   "outputs": [],
   "metadata": {}
  },
  {
   "cell_type": "code",
   "execution_count": 14,
   "source": [
    "def generate_results(df, method):\r\n",
    "    df_nan = df.copy()  # df auxiliar utilizando apenas as colunas quantitativas\r\n",
    "    data = [] # array que armazenará os dados do dataframe resultante\r\n",
    "    data_ = []\r\n",
    "    df_vis1 = [] # array que armazenará o df resultante de cada coluna de df_nan\r\n",
    "    for col in quantitativos:\r\n",
    "        print(col)\r\n",
    "        data = test_column(df_nan, col, method)\r\n",
    "        df_vis1.append(pd.DataFrame(data = data))\r\n",
    "    print(\"done\")\r\n",
    "    df_vis = pd.concat(df_vis1)\r\n",
    "    return df_vis"
   ],
   "outputs": [],
   "metadata": {}
  },
  {
   "cell_type": "code",
   "execution_count": null,
   "source": [],
   "outputs": [],
   "metadata": {}
  },
  {
   "cell_type": "markdown",
   "source": [
    "# Teste de imputação"
   ],
   "metadata": {}
  },
  {
   "cell_type": "code",
   "execution_count": 15,
   "source": [
    "df_vis1 = generate_results(df, 'empty')\r\n",
    "# df_vis2 = generate_results(df, 'median')\r\n",
    "# df_vis3 = generate_results(df, 'mode')\r\n",
    "# df_vis = pd.concat([df_vis1, df_vis2, df_vis3])"
   ],
   "outputs": [
    {
     "output_type": "stream",
     "name": "stdout",
     "text": [
      "total_confirmed\n",
      "total_deaths\n",
      "total_recovered\n",
      "active_cases\n",
      "serious_or_critical\n",
      "total_cases_per_1m_population\n",
      "total_deaths_per_1m_population\n",
      "total_tests\n",
      "total_tests_per_1m_population\n",
      "population\n",
      "done\n"
     ]
    }
   ],
   "metadata": {
    "scrolled": false
   }
  },
  {
   "cell_type": "code",
   "execution_count": 17,
   "source": [
    "def generate_vis(df_vis, coluna):\r\n",
    "    fig, axes = plt.subplots(nrows=2, ncols=1, figsize=(10, 30))\r\n",
    "    \r\n",
    "    sns.boxplot(ax=axes[0], x = 'pct imputed', y = 'Δmean', hue = 'imputation method', data = df_vis[df_vis['attribute'] == coluna], palette = 'Set2', showfliers = False); axes[0].set_title(coluna) \r\n",
    "    sns.boxplot(ax=axes[1], x = 'pct imputed', y = 'Δmedian', hue = 'imputation method', data = df_vis[df_vis['attribute'] == coluna], palette = 'Set2', showfliers = False); \r\n",
    "    sns.boxplot(ax=axes[2], x = 'pct imputed', y = 'Δstd', hue = 'imputation method', data = df_vis[df_vis['attribute'] == coluna], palette = 'Set2', showfliers = False); \r\n",
    "#     sns.boxplot(ax=axes[3], x = 'pct imputed', y = 'Δmin', hue = 'imputation method', data = df_vis[df_vis['attribute'] == coluna], palette = 'Pastel1', showfliers = False); \r\n",
    "#     sns.boxplot(ax=axes[4], x = 'pct imputed', y = 'Δmax', hue = 'imputation method', data = df_vis[df_vis['attribute'] == coluna], palette = 'Pastel1', showfliers = False); \r\n",
    "    sns.boxplot(ax=axes[3], x = 'pct imputed', y = 'Δcorrel', hue = 'imputation method', data = df_vis[df_vis['attribute'] == coluna], palette=\"Blues_d\"); \r\n",
    "        \r\n",
    "    axes[0].axhline(y=0, linestyle = '--')\r\n",
    "    axes[1].axhline(y=0, linestyle = '--')\r\n",
    "    axes[2].axhline(y=0, linestyle = '--')\r\n",
    "#     axes[3].axhline(y=0, linestyle = '--')\r\n"
   ],
   "outputs": [],
   "metadata": {}
  },
  {
   "cell_type": "code",
   "execution_count": 48,
   "source": [
    "coluna = []\r\n",
    "for i in df[quantitativos]:\r\n",
    "    coluna.append(i)\r\n",
    "# b = sns.lmplot(x = df_vis1.columns[1], y = df_vis1.columns[3], hue = df_vis1.columns[2], data = df_vis1)\r\n",
    "# a = [df_vis1['attribute']=='serious_or_critical']\r\n",
    "# b = df_vis1[['attribute']=='total_deaths']\r\n",
    "c = sns.lmplot(x = 'attribute', hue = 'pct imputed', data = df_vis1)"
   ],
   "outputs": [
    {
     "output_type": "error",
     "ename": "ValueError",
     "evalue": "'total_deaths' is not in list",
     "traceback": [
      "\u001b[1;31m---------------------------------------------------------------------------\u001b[0m",
      "\u001b[1;31mValueError\u001b[0m                                Traceback (most recent call last)",
      "\u001b[1;32m<ipython-input-48-c67cef31e5e3>\u001b[0m in \u001b[0;36m<module>\u001b[1;34m\u001b[0m\n\u001b[0;32m      5\u001b[0m \u001b[1;31m# a = [df_vis1['attribute']=='serious_or_critical']\u001b[0m\u001b[1;33m\u001b[0m\u001b[1;33m\u001b[0m\u001b[1;33m\u001b[0m\u001b[0m\n\u001b[0;32m      6\u001b[0m \u001b[1;31m# b = df_vis1[['attribute']=='total_deaths']\u001b[0m\u001b[1;33m\u001b[0m\u001b[1;33m\u001b[0m\u001b[1;33m\u001b[0m\u001b[0m\n\u001b[1;32m----> 7\u001b[1;33m \u001b[0mc\u001b[0m \u001b[1;33m=\u001b[0m \u001b[0msns\u001b[0m\u001b[1;33m.\u001b[0m\u001b[0mlmplot\u001b[0m\u001b[1;33m(\u001b[0m\u001b[0mx\u001b[0m \u001b[1;33m=\u001b[0m \u001b[1;33m[\u001b[0m\u001b[1;34m'attribute'\u001b[0m\u001b[1;33m]\u001b[0m\u001b[1;33m.\u001b[0m\u001b[0mindex\u001b[0m\u001b[1;33m(\u001b[0m\u001b[1;34m'total_deaths'\u001b[0m\u001b[1;33m)\u001b[0m\u001b[1;33m,\u001b[0m \u001b[0mhue\u001b[0m \u001b[1;33m=\u001b[0m \u001b[1;34m'pct imputed'\u001b[0m\u001b[1;33m,\u001b[0m \u001b[0mdata\u001b[0m \u001b[1;33m=\u001b[0m \u001b[0mdf_vis1\u001b[0m\u001b[1;33m)\u001b[0m\u001b[1;33m\u001b[0m\u001b[1;33m\u001b[0m\u001b[0m\n\u001b[0m",
      "\u001b[1;31mValueError\u001b[0m: 'total_deaths' is not in list"
     ]
    }
   ],
   "metadata": {
    "scrolled": false
   }
  },
  {
   "cell_type": "markdown",
   "source": [
    "# Coluna Idade"
   ],
   "metadata": {}
  },
  {
   "cell_type": "code",
   "execution_count": null,
   "source": [
    "colunas = df_vis2['nome'].unique()\r\n",
    "generate_vis(df_vis2, colunas[0])"
   ],
   "outputs": [],
   "metadata": {
    "scrolled": true
   }
  },
  {
   "cell_type": "markdown",
   "source": [
    "# Coluna Vontade"
   ],
   "metadata": {}
  },
  {
   "cell_type": "code",
   "execution_count": null,
   "source": [
    "generate_vis(df_vis, colunas[1])"
   ],
   "outputs": [],
   "metadata": {
    "scrolled": true
   }
  },
  {
   "cell_type": "markdown",
   "source": [
    "# Coluna Raiva"
   ],
   "metadata": {}
  },
  {
   "cell_type": "code",
   "execution_count": null,
   "source": [
    "generate_vis(df_vis, colunas[2])"
   ],
   "outputs": [],
   "metadata": {
    "scrolled": true
   }
  },
  {
   "cell_type": "markdown",
   "source": [
    "# Coluna Medo"
   ],
   "metadata": {}
  },
  {
   "cell_type": "code",
   "execution_count": null,
   "source": [
    "generate_vis(df_vis, colunas[3])"
   ],
   "outputs": [],
   "metadata": {
    "scrolled": true
   }
  },
  {
   "cell_type": "markdown",
   "source": [
    "# Coluna Cautela"
   ],
   "metadata": {}
  },
  {
   "cell_type": "code",
   "execution_count": null,
   "source": [
    "generate_vis(df_vis, colunas[4])"
   ],
   "outputs": [],
   "metadata": {
    "scrolled": true
   }
  },
  {
   "cell_type": "markdown",
   "source": [
    "# Coluna Inibição"
   ],
   "metadata": {}
  },
  {
   "cell_type": "code",
   "execution_count": null,
   "source": [
    "generate_vis(df_vis, colunas[5])"
   ],
   "outputs": [],
   "metadata": {
    "scrolled": true
   }
  },
  {
   "cell_type": "markdown",
   "source": [
    "# Coluna Sensibilidade"
   ],
   "metadata": {}
  },
  {
   "cell_type": "code",
   "execution_count": null,
   "source": [
    "generate_vis(df_vis, colunas[6])"
   ],
   "outputs": [],
   "metadata": {
    "scrolled": true
   }
  },
  {
   "cell_type": "markdown",
   "source": [
    "# Coluna Coping"
   ],
   "metadata": {}
  },
  {
   "cell_type": "code",
   "execution_count": null,
   "source": [
    "generate_vis(df_vis, colunas[7])"
   ],
   "outputs": [],
   "metadata": {
    "scrolled": true
   }
  },
  {
   "cell_type": "code",
   "execution_count": null,
   "source": [],
   "outputs": [],
   "metadata": {}
  },
  {
   "cell_type": "code",
   "execution_count": null,
   "source": [
    "df_vis4 = generate_results(df, 'knn_2')\n",
    "df_vis5 = generate_results(df, 'knn_3')\n",
    "df_vis6 = generate_results(df, 'knn_4')\n",
    "df_vis7 = generate_results(df, 'knn_5')"
   ],
   "outputs": [],
   "metadata": {}
  },
  {
   "cell_type": "code",
   "execution_count": null,
   "source": [
    "df_vis = pd.concat([df_vis4, df_vis5, df_vis6, df_vis7])"
   ],
   "outputs": [],
   "metadata": {}
  },
  {
   "cell_type": "code",
   "execution_count": null,
   "source": [
    "colunas = df_vis['nome'].unique()\n",
    "generate_vis(df_vis, colunas[1])"
   ],
   "outputs": [],
   "metadata": {
    "scrolled": false
   }
  },
  {
   "cell_type": "code",
   "execution_count": null,
   "source": [
    "generate_vis(df_vis, colunas[2])"
   ],
   "outputs": [],
   "metadata": {}
  },
  {
   "cell_type": "markdown",
   "source": [
    "# Dados Categóricos - Teste de Imputação"
   ],
   "metadata": {}
  },
  {
   "cell_type": "code",
   "execution_count": null,
   "source": [
    "df[categoricos].describe()"
   ],
   "outputs": [],
   "metadata": {}
  },
  {
   "cell_type": "code",
   "execution_count": null,
   "source": [
    "def cat_imputation_test(k,df,col,method):\n",
    "    n_rows = df.shape[0]\n",
    "    df_compare = []\n",
    "    \n",
    "    k_ = int(n_rows*k/100)\n",
    "    to_nan = rd.sample(range(n_rows), k_)  # seleciona aleatorimente k% do numero de linhas total\n",
    "    \n",
    "    df[col].iloc[to_nan] = np.nan  \n",
    "\n",
    "    if method == 'mode':\n",
    "        df[col].fillna(df[col].mode()[0], inplace = True)\n",
    "        \n",
    "    elif method == 'knn' :\n",
    "        imputer = KNNImputer(n_neighbors = 2)\n",
    "        imputed_data = imputer.fit_transform(df)\n",
    "        df_temp = pd.DataFrame(imputed_data)\n",
    "        df_temp.columns = df.columns\n",
    "        df[col] = df_temp[col]  # update only the desired column\n",
    "        \n",
    "    else:\n",
    "        print(\"method not available or invalid\")"
   ],
   "outputs": [],
   "metadata": {}
  },
  {
   "cell_type": "code",
   "execution_count": null,
   "source": [
    "def cat_mean_of(data):\n",
    "    _mean = 0\n",
    "    _std = 0\n",
    "    _median = 0\n",
    "    _min_ = 0\n",
    "    _max_ = 0\n",
    "    for i in range(len(data)):\n",
    "        _mean += data[i][0]\n",
    "        _std += data[i][1]\n",
    "        _median += data[i][2]\n",
    "        _min_ += data[i][3]\n",
    "        _max_ += data[i][4]\n",
    "    mean = round(_mean/len(data), 4)\n",
    "    std = round(_std/len(data), 4)\n",
    "    median = round(_median/len(data), 4)\n",
    "    min_ = round(_min_/len(data), 4)\n",
    "    max_ = round(_max_/len(data), 4)\n",
    "    return [mean, std, median, min_, max_]"
   ],
   "outputs": [],
   "metadata": {}
  },
  {
   "cell_type": "code",
   "execution_count": null,
   "source": [
    "def cat_compare (df1, df2):\n",
    "#     60 % M 40% F\n",
    "#     moda\n",
    "#     correlação ***somente por enquanto\n",
    "#     mean = df2.mean() - df1.mean()\n",
    "#     std = df2.std() - df1.std()\n",
    "    median = df2.median() - df1.median()\n",
    "#     minim = df2.min() - df1.min()\n",
    "#     maxim = df2.max() - df1.max()\n",
    "    return [mean, std, median, minim, maxim]"
   ],
   "outputs": [],
   "metadata": {}
  },
  {
   "cell_type": "code",
   "execution_count": null,
   "source": [
    "def cat_test_column(df, col, method):\n",
    "    data = []\n",
    "    data_ = []\n",
    "    k = [x for x in range(5,100,5)]\n",
    "    df1 = df[col].copy()\n",
    "    for j in range(len(k)):\n",
    "        for i in range(50):\n",
    "            cat_imputation_test(k[j], df, col, method)\n",
    "            df2 = df[col].copy()\n",
    "            data.append(cat_compare(df1, df2))\n",
    "        data_.append(cat_mean_of(data))\n",
    "        print(data_)\n",
    "    return data_"
   ],
   "outputs": [],
   "metadata": {}
  },
  {
   "cell_type": "code",
   "execution_count": null,
   "source": [
    "def cat_generate_results(df, method):\n",
    "    df_nan = df[categoricos].copy()  # df auxiliar utilizando apenas as colunas quantitativas\n",
    "    nao_numericos = []\n",
    "    data = [] # array que armazenará os dados do dataframe resultante\n",
    "    data_ = []\n",
    "    k = [x for x in range(5,100,5)] # porcentagem de variáveis a serem retiradas aleatóriamente de cada coluna de df_nan\n",
    "    df_vis1 = [] # array que armazenará o df resultante de cada coluna de df_nan\n",
    "    \n",
    "    for col in df_nan.columns:\n",
    "#         if type(df_nan[col].loc[0]) is str:\n",
    "#             nao_numericos.append(col)\n",
    "#         else:\n",
    "            print(col)\n",
    "            data = cat_test_column(df_nan, col, method)\n",
    "            d = {'imputation_method' : method,\n",
    "              'nan values' : k,\n",
    "              'nome' : col,\n",
    "              'Δ mean' : [data[i][0] for i in range(19)],\n",
    "              'Δ std' : [data[i][1] for i in range(19)],\n",
    "              'Δ median' : [data[i][2] for i in range(19)],\n",
    "              'Δ min' : [data[i][3] for i in range(19)],\n",
    "              'Δ max' : [data[i][4] for i in range(19)]\n",
    "                }\n",
    "            df_vis1.append(pd.DataFrame(data = d))\n",
    "    print(\"done\")\n",
    "    df_vis = pd.concat(df_vis1)\n",
    "    return df_vis"
   ],
   "outputs": [],
   "metadata": {}
  },
  {
   "cell_type": "code",
   "execution_count": null,
   "source": [
    "def cat_generate_vis(df_vis, coluna):\n",
    "    fig, axes = plt.subplots(nrows=5, ncols=1, figsize=(10,30))\n",
    "    sns.barplot(ax=axes[0], x = 'pct imputed', y = 'Δmean', hue = 'imputation method', data = df_vis[df_vis['attribute'] == coluna], palette=\"Blues_d\"); axes[0].set_title(coluna) \n",
    "    sns.barplot(ax=axes[1], x = 'pct imputed', y = 'Δmedian', hue = 'imputation method', data = df_vis[df_vis['attribute'] == coluna], palette=\"Blues_d\"); \n",
    "    sns.barplot(ax=axes[2], x = 'pct imputed', y = 'Δstd', hue = 'imputation method', data = df_vis[df_vis['attribute'] == coluna], palette=\"Blues_d\"); \n",
    "    sns.barplot(ax=axes[3], x = 'pct imputed', y = 'Δmin', hue = 'imputation method', data = df_vis[df_vis['attribute'] == coluna], palette=\"Blues_d\"); \n",
    "    sns.barplot(ax=axes[4], x = 'pct imputed', y = 'Δmax', hue = 'imputation method', data = df_vis[df_vis['attribute'] == coluna], palette=\"Blues_d\"); "
   ],
   "outputs": [],
   "metadata": {}
  },
  {
   "cell_type": "code",
   "execution_count": null,
   "source": [
    "df_vis1 = cat_generate_results(df, 'mode')"
   ],
   "outputs": [],
   "metadata": {}
  },
  {
   "cell_type": "code",
   "execution_count": null,
   "source": [
    "colunas = df_vis1['nome'].unique()\n",
    "cat_generate_vis(df_vis1, colunas[1])"
   ],
   "outputs": [],
   "metadata": {}
  },
  {
   "cell_type": "code",
   "execution_count": null,
   "source": [
    "df_vis = generate_results(df, \"missforest\")\n",
    "generate_vis(df, \"missforest\")\n",
    "\n",
    "fig, axes = plt.subplots(nrows=4, ncols=1, figsize=(12,10))\n",
    "sns.barplot(ax=axes[0], x='pct imputed', y='Δ std', hue='nome', data=df_vis); \n",
    "sns.barplot(ax=axes[1], x='pct imputed', y='Δ mean', hue='nome', data=df_vis); \n",
    "sns.barplot(ax=axes[2], x='pct imputed', y='Δ median', hue='nome', data=df_vis); \n",
    "sns.barplot(ax=axes[3], x='pct imputed', y='Δ max', hue='nome', data=df_vis); "
   ],
   "outputs": [],
   "metadata": {}
  },
  {
   "cell_type": "code",
   "execution_count": null,
   "source": [],
   "outputs": [],
   "metadata": {}
  },
  {
   "cell_type": "code",
   "execution_count": null,
   "source": [
    "def stats_ (col):\n",
    "    df_pos = df.loc[df['THB'] == 'Sim']\n",
    "    df_neg = df.loc[df['THB'] != 'Sim']\n",
    "    var = col\n",
    "    tstat, pval = stats.ttest_ind(df_pos[var], df_neg[var], nan_policy='omit')\n",
    "    return tstat, pval"
   ],
   "outputs": [],
   "metadata": {}
  }
 ],
 "metadata": {
  "kernelspec": {
   "name": "python3",
   "display_name": "Python 3.9.1 64-bit"
  },
  "language_info": {
   "codemirror_mode": {
    "name": "ipython",
    "version": 3
   },
   "file_extension": ".py",
   "mimetype": "text/x-python",
   "name": "python",
   "nbconvert_exporter": "python",
   "pygments_lexer": "ipython3",
   "version": "3.9.1"
  },
  "interpreter": {
   "hash": "b8e920ee31e7e3dc283331744284dc5060870b60f8b605138959489677438823"
  }
 },
 "nbformat": 4,
 "nbformat_minor": 4
}